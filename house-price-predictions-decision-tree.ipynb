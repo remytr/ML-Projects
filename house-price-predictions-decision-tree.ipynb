{
 "cells": [
  {
   "cell_type": "code",
   "execution_count": 1,
   "id": "505ed437",
   "metadata": {
    "_cell_guid": "b1076dfc-b9ad-4769-8c92-a6c4dae69d19",
    "_uuid": "8f2839f25d086af736a60e9eeb907d3b93b6e0e5",
    "execution": {
     "iopub.execute_input": "2025-04-15T22:00:50.616133Z",
     "iopub.status.busy": "2025-04-15T22:00:50.615659Z",
     "iopub.status.idle": "2025-04-15T22:00:53.337898Z",
     "shell.execute_reply": "2025-04-15T22:00:53.336185Z"
    },
    "papermill": {
     "duration": 2.733226,
     "end_time": "2025-04-15T22:00:53.339708",
     "exception": false,
     "start_time": "2025-04-15T22:00:50.606482",
     "status": "completed"
    },
    "tags": []
   },
   "outputs": [
    {
     "name": "stdout",
     "output_type": "stream",
     "text": [
      "/kaggle/input/home-data-for-ml-course/sample_submission.csv\n",
      "/kaggle/input/home-data-for-ml-course/sample_submission.csv.gz\n",
      "/kaggle/input/home-data-for-ml-course/train.csv.gz\n",
      "/kaggle/input/home-data-for-ml-course/data_description.txt\n",
      "/kaggle/input/home-data-for-ml-course/test.csv.gz\n",
      "/kaggle/input/home-data-for-ml-course/train.csv\n",
      "/kaggle/input/home-data-for-ml-course/test.csv\n"
     ]
    }
   ],
   "source": [
    "# This Python 3 environment comes with many helpful analytics libraries installed\n",
    "# It is defined by the kaggle/python Docker image: https://github.com/kaggle/docker-python\n",
    "# For example, here's several helpful packages to load\n",
    "\n",
    "import numpy as np # linear algebra\n",
    "import pandas as pd # data processing, CSV file I/O (e.g. pd.read_csv)\n",
    "import seaborn as sns\n",
    "\n",
    "\n",
    "# Input data files are available in the read-only \"../input/\" directory\n",
    "# For example, running this (by clicking run or pressing Shift+Enter) will list all files under the input directory\n",
    "\n",
    "import os\n",
    "for dirname, _, filenames in os.walk('/kaggle/input'):\n",
    "    for filename in filenames:\n",
    "        print(os.path.join(dirname, filename))\n",
    "\n",
    "# You can write up to 20GB to the current directory (/kaggle/working/) that gets preserved as output when you create a version using \"Save & Run All\" \n",
    "# You can also write temporary files to /kaggle/temp/, but they won't be saved outside of the current session"
   ]
  },
  {
   "cell_type": "code",
   "execution_count": 2,
   "id": "dc64b628",
   "metadata": {
    "execution": {
     "iopub.execute_input": "2025-04-15T22:00:53.354004Z",
     "iopub.status.busy": "2025-04-15T22:00:53.353505Z",
     "iopub.status.idle": "2025-04-15T22:00:53.754277Z",
     "shell.execute_reply": "2025-04-15T22:00:53.752994Z"
    },
    "papermill": {
     "duration": 0.409974,
     "end_time": "2025-04-15T22:00:53.756434",
     "exception": false,
     "start_time": "2025-04-15T22:00:53.346460",
     "status": "completed"
    },
    "tags": []
   },
   "outputs": [],
   "source": [
    "from sklearn.model_selection import train_test_split\n",
    "from sklearn.linear_model import LinearRegression\n",
    "from sklearn.metrics import mean_squared_error, r2_score\n",
    "from sklearn.preprocessing import StandardScaler\n",
    "from sklearn.metrics import mean_absolute_error\n",
    "from sklearn.linear_model import SGDRegressor\n",
    "import matplotlib.pyplot as plt\n"
   ]
  },
  {
   "cell_type": "code",
   "execution_count": 3,
   "id": "9f2dfd06",
   "metadata": {
    "execution": {
     "iopub.execute_input": "2025-04-15T22:00:53.770862Z",
     "iopub.status.busy": "2025-04-15T22:00:53.770472Z",
     "iopub.status.idle": "2025-04-15T22:00:53.827965Z",
     "shell.execute_reply": "2025-04-15T22:00:53.827078Z"
    },
    "papermill": {
     "duration": 0.066688,
     "end_time": "2025-04-15T22:00:53.829972",
     "exception": false,
     "start_time": "2025-04-15T22:00:53.763284",
     "status": "completed"
    },
    "tags": []
   },
   "outputs": [],
   "source": [
    "# Read in the data \n",
    "df = pd.read_csv('/kaggle/input/home-data-for-ml-course/train.csv',index_col = 'Id')"
   ]
  },
  {
   "cell_type": "code",
   "execution_count": 4,
   "id": "88b43a51",
   "metadata": {
    "execution": {
     "iopub.execute_input": "2025-04-15T22:00:53.844031Z",
     "iopub.status.busy": "2025-04-15T22:00:53.843596Z",
     "iopub.status.idle": "2025-04-15T22:00:53.931954Z",
     "shell.execute_reply": "2025-04-15T22:00:53.930877Z"
    },
    "papermill": {
     "duration": 0.097267,
     "end_time": "2025-04-15T22:00:53.933685",
     "exception": false,
     "start_time": "2025-04-15T22:00:53.836418",
     "status": "completed"
    },
    "tags": []
   },
   "outputs": [
    {
     "data": {
      "text/html": [
       "<div>\n",
       "<style scoped>\n",
       "    .dataframe tbody tr th:only-of-type {\n",
       "        vertical-align: middle;\n",
       "    }\n",
       "\n",
       "    .dataframe tbody tr th {\n",
       "        vertical-align: top;\n",
       "    }\n",
       "\n",
       "    .dataframe thead th {\n",
       "        text-align: right;\n",
       "    }\n",
       "</style>\n",
       "<table border=\"1\" class=\"dataframe\">\n",
       "  <thead>\n",
       "    <tr style=\"text-align: right;\">\n",
       "      <th></th>\n",
       "      <th>MSSubClass</th>\n",
       "      <th>LotFrontage</th>\n",
       "      <th>LotArea</th>\n",
       "      <th>OverallQual</th>\n",
       "      <th>OverallCond</th>\n",
       "      <th>YearBuilt</th>\n",
       "      <th>YearRemodAdd</th>\n",
       "      <th>MasVnrArea</th>\n",
       "      <th>BsmtFinSF1</th>\n",
       "      <th>BsmtFinSF2</th>\n",
       "      <th>...</th>\n",
       "      <th>WoodDeckSF</th>\n",
       "      <th>OpenPorchSF</th>\n",
       "      <th>EnclosedPorch</th>\n",
       "      <th>3SsnPorch</th>\n",
       "      <th>ScreenPorch</th>\n",
       "      <th>PoolArea</th>\n",
       "      <th>MiscVal</th>\n",
       "      <th>MoSold</th>\n",
       "      <th>YrSold</th>\n",
       "      <th>SalePrice</th>\n",
       "    </tr>\n",
       "  </thead>\n",
       "  <tbody>\n",
       "    <tr>\n",
       "      <th>count</th>\n",
       "      <td>1460.000000</td>\n",
       "      <td>1201.000000</td>\n",
       "      <td>1460.000000</td>\n",
       "      <td>1460.000000</td>\n",
       "      <td>1460.000000</td>\n",
       "      <td>1460.000000</td>\n",
       "      <td>1460.000000</td>\n",
       "      <td>1452.000000</td>\n",
       "      <td>1460.000000</td>\n",
       "      <td>1460.000000</td>\n",
       "      <td>...</td>\n",
       "      <td>1460.000000</td>\n",
       "      <td>1460.000000</td>\n",
       "      <td>1460.000000</td>\n",
       "      <td>1460.000000</td>\n",
       "      <td>1460.000000</td>\n",
       "      <td>1460.000000</td>\n",
       "      <td>1460.000000</td>\n",
       "      <td>1460.000000</td>\n",
       "      <td>1460.000000</td>\n",
       "      <td>1460.000000</td>\n",
       "    </tr>\n",
       "    <tr>\n",
       "      <th>mean</th>\n",
       "      <td>56.897260</td>\n",
       "      <td>70.049958</td>\n",
       "      <td>10516.828082</td>\n",
       "      <td>6.099315</td>\n",
       "      <td>5.575342</td>\n",
       "      <td>1971.267808</td>\n",
       "      <td>1984.865753</td>\n",
       "      <td>103.685262</td>\n",
       "      <td>443.639726</td>\n",
       "      <td>46.549315</td>\n",
       "      <td>...</td>\n",
       "      <td>94.244521</td>\n",
       "      <td>46.660274</td>\n",
       "      <td>21.954110</td>\n",
       "      <td>3.409589</td>\n",
       "      <td>15.060959</td>\n",
       "      <td>2.758904</td>\n",
       "      <td>43.489041</td>\n",
       "      <td>6.321918</td>\n",
       "      <td>2007.815753</td>\n",
       "      <td>180921.195890</td>\n",
       "    </tr>\n",
       "    <tr>\n",
       "      <th>std</th>\n",
       "      <td>42.300571</td>\n",
       "      <td>24.284752</td>\n",
       "      <td>9981.264932</td>\n",
       "      <td>1.382997</td>\n",
       "      <td>1.112799</td>\n",
       "      <td>30.202904</td>\n",
       "      <td>20.645407</td>\n",
       "      <td>181.066207</td>\n",
       "      <td>456.098091</td>\n",
       "      <td>161.319273</td>\n",
       "      <td>...</td>\n",
       "      <td>125.338794</td>\n",
       "      <td>66.256028</td>\n",
       "      <td>61.119149</td>\n",
       "      <td>29.317331</td>\n",
       "      <td>55.757415</td>\n",
       "      <td>40.177307</td>\n",
       "      <td>496.123024</td>\n",
       "      <td>2.703626</td>\n",
       "      <td>1.328095</td>\n",
       "      <td>79442.502883</td>\n",
       "    </tr>\n",
       "    <tr>\n",
       "      <th>min</th>\n",
       "      <td>20.000000</td>\n",
       "      <td>21.000000</td>\n",
       "      <td>1300.000000</td>\n",
       "      <td>1.000000</td>\n",
       "      <td>1.000000</td>\n",
       "      <td>1872.000000</td>\n",
       "      <td>1950.000000</td>\n",
       "      <td>0.000000</td>\n",
       "      <td>0.000000</td>\n",
       "      <td>0.000000</td>\n",
       "      <td>...</td>\n",
       "      <td>0.000000</td>\n",
       "      <td>0.000000</td>\n",
       "      <td>0.000000</td>\n",
       "      <td>0.000000</td>\n",
       "      <td>0.000000</td>\n",
       "      <td>0.000000</td>\n",
       "      <td>0.000000</td>\n",
       "      <td>1.000000</td>\n",
       "      <td>2006.000000</td>\n",
       "      <td>34900.000000</td>\n",
       "    </tr>\n",
       "    <tr>\n",
       "      <th>25%</th>\n",
       "      <td>20.000000</td>\n",
       "      <td>59.000000</td>\n",
       "      <td>7553.500000</td>\n",
       "      <td>5.000000</td>\n",
       "      <td>5.000000</td>\n",
       "      <td>1954.000000</td>\n",
       "      <td>1967.000000</td>\n",
       "      <td>0.000000</td>\n",
       "      <td>0.000000</td>\n",
       "      <td>0.000000</td>\n",
       "      <td>...</td>\n",
       "      <td>0.000000</td>\n",
       "      <td>0.000000</td>\n",
       "      <td>0.000000</td>\n",
       "      <td>0.000000</td>\n",
       "      <td>0.000000</td>\n",
       "      <td>0.000000</td>\n",
       "      <td>0.000000</td>\n",
       "      <td>5.000000</td>\n",
       "      <td>2007.000000</td>\n",
       "      <td>129975.000000</td>\n",
       "    </tr>\n",
       "    <tr>\n",
       "      <th>50%</th>\n",
       "      <td>50.000000</td>\n",
       "      <td>69.000000</td>\n",
       "      <td>9478.500000</td>\n",
       "      <td>6.000000</td>\n",
       "      <td>5.000000</td>\n",
       "      <td>1973.000000</td>\n",
       "      <td>1994.000000</td>\n",
       "      <td>0.000000</td>\n",
       "      <td>383.500000</td>\n",
       "      <td>0.000000</td>\n",
       "      <td>...</td>\n",
       "      <td>0.000000</td>\n",
       "      <td>25.000000</td>\n",
       "      <td>0.000000</td>\n",
       "      <td>0.000000</td>\n",
       "      <td>0.000000</td>\n",
       "      <td>0.000000</td>\n",
       "      <td>0.000000</td>\n",
       "      <td>6.000000</td>\n",
       "      <td>2008.000000</td>\n",
       "      <td>163000.000000</td>\n",
       "    </tr>\n",
       "    <tr>\n",
       "      <th>75%</th>\n",
       "      <td>70.000000</td>\n",
       "      <td>80.000000</td>\n",
       "      <td>11601.500000</td>\n",
       "      <td>7.000000</td>\n",
       "      <td>6.000000</td>\n",
       "      <td>2000.000000</td>\n",
       "      <td>2004.000000</td>\n",
       "      <td>166.000000</td>\n",
       "      <td>712.250000</td>\n",
       "      <td>0.000000</td>\n",
       "      <td>...</td>\n",
       "      <td>168.000000</td>\n",
       "      <td>68.000000</td>\n",
       "      <td>0.000000</td>\n",
       "      <td>0.000000</td>\n",
       "      <td>0.000000</td>\n",
       "      <td>0.000000</td>\n",
       "      <td>0.000000</td>\n",
       "      <td>8.000000</td>\n",
       "      <td>2009.000000</td>\n",
       "      <td>214000.000000</td>\n",
       "    </tr>\n",
       "    <tr>\n",
       "      <th>max</th>\n",
       "      <td>190.000000</td>\n",
       "      <td>313.000000</td>\n",
       "      <td>215245.000000</td>\n",
       "      <td>10.000000</td>\n",
       "      <td>9.000000</td>\n",
       "      <td>2010.000000</td>\n",
       "      <td>2010.000000</td>\n",
       "      <td>1600.000000</td>\n",
       "      <td>5644.000000</td>\n",
       "      <td>1474.000000</td>\n",
       "      <td>...</td>\n",
       "      <td>857.000000</td>\n",
       "      <td>547.000000</td>\n",
       "      <td>552.000000</td>\n",
       "      <td>508.000000</td>\n",
       "      <td>480.000000</td>\n",
       "      <td>738.000000</td>\n",
       "      <td>15500.000000</td>\n",
       "      <td>12.000000</td>\n",
       "      <td>2010.000000</td>\n",
       "      <td>755000.000000</td>\n",
       "    </tr>\n",
       "  </tbody>\n",
       "</table>\n",
       "<p>8 rows × 37 columns</p>\n",
       "</div>"
      ],
      "text/plain": [
       "        MSSubClass  LotFrontage        LotArea  OverallQual  OverallCond  \\\n",
       "count  1460.000000  1201.000000    1460.000000  1460.000000  1460.000000   \n",
       "mean     56.897260    70.049958   10516.828082     6.099315     5.575342   \n",
       "std      42.300571    24.284752    9981.264932     1.382997     1.112799   \n",
       "min      20.000000    21.000000    1300.000000     1.000000     1.000000   \n",
       "25%      20.000000    59.000000    7553.500000     5.000000     5.000000   \n",
       "50%      50.000000    69.000000    9478.500000     6.000000     5.000000   \n",
       "75%      70.000000    80.000000   11601.500000     7.000000     6.000000   \n",
       "max     190.000000   313.000000  215245.000000    10.000000     9.000000   \n",
       "\n",
       "         YearBuilt  YearRemodAdd   MasVnrArea   BsmtFinSF1   BsmtFinSF2  ...  \\\n",
       "count  1460.000000   1460.000000  1452.000000  1460.000000  1460.000000  ...   \n",
       "mean   1971.267808   1984.865753   103.685262   443.639726    46.549315  ...   \n",
       "std      30.202904     20.645407   181.066207   456.098091   161.319273  ...   \n",
       "min    1872.000000   1950.000000     0.000000     0.000000     0.000000  ...   \n",
       "25%    1954.000000   1967.000000     0.000000     0.000000     0.000000  ...   \n",
       "50%    1973.000000   1994.000000     0.000000   383.500000     0.000000  ...   \n",
       "75%    2000.000000   2004.000000   166.000000   712.250000     0.000000  ...   \n",
       "max    2010.000000   2010.000000  1600.000000  5644.000000  1474.000000  ...   \n",
       "\n",
       "        WoodDeckSF  OpenPorchSF  EnclosedPorch    3SsnPorch  ScreenPorch  \\\n",
       "count  1460.000000  1460.000000    1460.000000  1460.000000  1460.000000   \n",
       "mean     94.244521    46.660274      21.954110     3.409589    15.060959   \n",
       "std     125.338794    66.256028      61.119149    29.317331    55.757415   \n",
       "min       0.000000     0.000000       0.000000     0.000000     0.000000   \n",
       "25%       0.000000     0.000000       0.000000     0.000000     0.000000   \n",
       "50%       0.000000    25.000000       0.000000     0.000000     0.000000   \n",
       "75%     168.000000    68.000000       0.000000     0.000000     0.000000   \n",
       "max     857.000000   547.000000     552.000000   508.000000   480.000000   \n",
       "\n",
       "          PoolArea       MiscVal       MoSold       YrSold      SalePrice  \n",
       "count  1460.000000   1460.000000  1460.000000  1460.000000    1460.000000  \n",
       "mean      2.758904     43.489041     6.321918  2007.815753  180921.195890  \n",
       "std      40.177307    496.123024     2.703626     1.328095   79442.502883  \n",
       "min       0.000000      0.000000     1.000000  2006.000000   34900.000000  \n",
       "25%       0.000000      0.000000     5.000000  2007.000000  129975.000000  \n",
       "50%       0.000000      0.000000     6.000000  2008.000000  163000.000000  \n",
       "75%       0.000000      0.000000     8.000000  2009.000000  214000.000000  \n",
       "max     738.000000  15500.000000    12.000000  2010.000000  755000.000000  \n",
       "\n",
       "[8 rows x 37 columns]"
      ]
     },
     "execution_count": 4,
     "metadata": {},
     "output_type": "execute_result"
    }
   ],
   "source": [
    "## Exploratory Data Analysis\n",
    "df.describe()\n",
    "\n",
    "# The dataframe has 1460 rows and 80 columns, with SalePrice being the target variable (supervised learning)."
   ]
  },
  {
   "cell_type": "code",
   "execution_count": 5,
   "id": "4167fd4d",
   "metadata": {
    "execution": {
     "iopub.execute_input": "2025-04-15T22:00:53.948220Z",
     "iopub.status.busy": "2025-04-15T22:00:53.947894Z",
     "iopub.status.idle": "2025-04-15T22:00:53.953160Z",
     "shell.execute_reply": "2025-04-15T22:00:53.952093Z"
    },
    "papermill": {
     "duration": 0.014409,
     "end_time": "2025-04-15T22:00:53.954795",
     "exception": false,
     "start_time": "2025-04-15T22:00:53.940386",
     "status": "completed"
    },
    "tags": []
   },
   "outputs": [],
   "source": [
    "# Create a function to find the most correlated features\n",
    "\n",
    "def find_most_correlated_features(df, target_col, num_features=10):\n",
    "      \"\"\"Finds the most correlated features with the target variable.\"\"\"\n",
    "      corr_with_target = df.corr()[target_col].abs().sort_values(ascending=False)\n",
    "      most_correlated = corr_with_target.drop(target_col).head(num_features)\n",
    "      return most_correlated"
   ]
  },
  {
   "cell_type": "code",
   "execution_count": 6,
   "id": "29ecf823",
   "metadata": {
    "execution": {
     "iopub.execute_input": "2025-04-15T22:00:53.969287Z",
     "iopub.status.busy": "2025-04-15T22:00:53.968922Z",
     "iopub.status.idle": "2025-04-15T22:00:53.974031Z",
     "shell.execute_reply": "2025-04-15T22:00:53.972653Z"
    },
    "papermill": {
     "duration": 0.014922,
     "end_time": "2025-04-15T22:00:53.976429",
     "exception": false,
     "start_time": "2025-04-15T22:00:53.961507",
     "status": "completed"
    },
    "tags": []
   },
   "outputs": [],
   "source": [
    "def isolate_numerical_features(df):\n",
    "  \"\"\"\n",
    "  Isolates numerical features from a pandas DataFrame.\n",
    "\n",
    "  Args:\n",
    "    df: The input pandas DataFrame.\n",
    "\n",
    "  Returns:\n",
    "    A pandas DataFrame containing only the numerical features.\n",
    "  \"\"\"\n",
    "  numerical_features = df.select_dtypes(include=['number'])\n",
    "  return numerical_features"
   ]
  },
  {
   "cell_type": "code",
   "execution_count": 7,
   "id": "cb4f7783",
   "metadata": {
    "execution": {
     "iopub.execute_input": "2025-04-15T22:00:53.991361Z",
     "iopub.status.busy": "2025-04-15T22:00:53.990973Z",
     "iopub.status.idle": "2025-04-15T22:00:53.997769Z",
     "shell.execute_reply": "2025-04-15T22:00:53.996740Z"
    },
    "papermill": {
     "duration": 0.016188,
     "end_time": "2025-04-15T22:00:53.999397",
     "exception": false,
     "start_time": "2025-04-15T22:00:53.983209",
     "status": "completed"
    },
    "tags": []
   },
   "outputs": [
    {
     "data": {
      "text/plain": [
       "(1460, 37)"
      ]
     },
     "execution_count": 7,
     "metadata": {},
     "output_type": "execute_result"
    }
   ],
   "source": [
    "df_numerical  = isolate_numerical_features(df)\n",
    "df_numerical.shape"
   ]
  },
  {
   "cell_type": "code",
   "execution_count": 8,
   "id": "b78291b7",
   "metadata": {
    "execution": {
     "iopub.execute_input": "2025-04-15T22:00:54.014093Z",
     "iopub.status.busy": "2025-04-15T22:00:54.013697Z",
     "iopub.status.idle": "2025-04-15T22:00:54.031844Z",
     "shell.execute_reply": "2025-04-15T22:00:54.030723Z"
    },
    "papermill": {
     "duration": 0.02758,
     "end_time": "2025-04-15T22:00:54.033806",
     "exception": false,
     "start_time": "2025-04-15T22:00:54.006226",
     "status": "completed"
    },
    "tags": []
   },
   "outputs": [
    {
     "data": {
      "text/plain": [
       "OverallQual     0.790982\n",
       "GrLivArea       0.708624\n",
       "GarageCars      0.640409\n",
       "GarageArea      0.623431\n",
       "TotalBsmtSF     0.613581\n",
       "1stFlrSF        0.605852\n",
       "FullBath        0.560664\n",
       "TotRmsAbvGrd    0.533723\n",
       "YearBuilt       0.522897\n",
       "YearRemodAdd    0.507101\n",
       "GarageYrBlt     0.486362\n",
       "MasVnrArea      0.477493\n",
       "Fireplaces      0.466929\n",
       "BsmtFinSF1      0.386420\n",
       "LotFrontage     0.351799\n",
       "WoodDeckSF      0.324413\n",
       "2ndFlrSF        0.319334\n",
       "OpenPorchSF     0.315856\n",
       "HalfBath        0.284108\n",
       "LotArea         0.263843\n",
       "Name: SalePrice, dtype: float64"
      ]
     },
     "execution_count": 8,
     "metadata": {},
     "output_type": "execute_result"
    }
   ],
   "source": [
    "find_most_correlated_features(df_numerical,'SalePrice',num_features=20)"
   ]
  },
  {
   "cell_type": "code",
   "execution_count": 9,
   "id": "44d1ef43",
   "metadata": {
    "execution": {
     "iopub.execute_input": "2025-04-15T22:00:54.049406Z",
     "iopub.status.busy": "2025-04-15T22:00:54.048966Z",
     "iopub.status.idle": "2025-04-15T22:00:54.053306Z",
     "shell.execute_reply": "2025-04-15T22:00:54.052118Z"
    },
    "papermill": {
     "duration": 0.014176,
     "end_time": "2025-04-15T22:00:54.054995",
     "exception": false,
     "start_time": "2025-04-15T22:00:54.040819",
     "status": "completed"
    },
    "tags": []
   },
   "outputs": [],
   "source": [
    "##### Building model #####"
   ]
  },
  {
   "cell_type": "code",
   "execution_count": 10,
   "id": "94775c47",
   "metadata": {
    "execution": {
     "iopub.execute_input": "2025-04-15T22:00:54.070113Z",
     "iopub.status.busy": "2025-04-15T22:00:54.069686Z",
     "iopub.status.idle": "2025-04-15T22:00:54.230020Z",
     "shell.execute_reply": "2025-04-15T22:00:54.229169Z"
    },
    "papermill": {
     "duration": 0.170107,
     "end_time": "2025-04-15T22:00:54.231983",
     "exception": false,
     "start_time": "2025-04-15T22:00:54.061876",
     "status": "completed"
    },
    "tags": []
   },
   "outputs": [],
   "source": [
    "# Building a decision tree\n",
    "from sklearn.tree import DecisionTreeRegressor\n",
    "\n",
    "house_model = DecisionTreeRegressor(random_state =1)"
   ]
  },
  {
   "cell_type": "code",
   "execution_count": 11,
   "id": "2475f430",
   "metadata": {
    "execution": {
     "iopub.execute_input": "2025-04-15T22:00:54.247350Z",
     "iopub.status.busy": "2025-04-15T22:00:54.246940Z",
     "iopub.status.idle": "2025-04-15T22:00:54.253622Z",
     "shell.execute_reply": "2025-04-15T22:00:54.252524Z"
    },
    "papermill": {
     "duration": 0.01611,
     "end_time": "2025-04-15T22:00:54.255326",
     "exception": false,
     "start_time": "2025-04-15T22:00:54.239216",
     "status": "completed"
    },
    "tags": []
   },
   "outputs": [],
   "source": [
    "X = df[['OverallQual','GrLivArea','GarageCars','GarageArea','TotalBsmtSF','1stFlrSF','FullBath','TotRmsAbvGrd','YearBuilt','YearRemodAdd','GarageYrBlt','MasVnrArea','Fireplaces','BsmtFinSF1','LotFrontage','WoodDeckSF','2ndFlrSF','OpenPorchSF','HalfBath','LotArea']]\n",
    "y = df['SalePrice']"
   ]
  },
  {
   "cell_type": "code",
   "execution_count": 12,
   "id": "844d3910",
   "metadata": {
    "execution": {
     "iopub.execute_input": "2025-04-15T22:00:54.270169Z",
     "iopub.status.busy": "2025-04-15T22:00:54.269800Z",
     "iopub.status.idle": "2025-04-15T22:00:54.276681Z",
     "shell.execute_reply": "2025-04-15T22:00:54.275849Z"
    },
    "papermill": {
     "duration": 0.016096,
     "end_time": "2025-04-15T22:00:54.278220",
     "exception": false,
     "start_time": "2025-04-15T22:00:54.262124",
     "status": "completed"
    },
    "tags": []
   },
   "outputs": [],
   "source": [
    "# Combine X and y for easier row-wise dropping\n",
    "data = pd.concat([X, y], axis=1)\n",
    "\n",
    "# Drop rows with any NaN values\n",
    "data_cleaned = data.dropna()"
   ]
  },
  {
   "cell_type": "code",
   "execution_count": 13,
   "id": "34eb399e",
   "metadata": {
    "execution": {
     "iopub.execute_input": "2025-04-15T22:00:54.293012Z",
     "iopub.status.busy": "2025-04-15T22:00:54.292673Z",
     "iopub.status.idle": "2025-04-15T22:00:54.309888Z",
     "shell.execute_reply": "2025-04-15T22:00:54.308951Z"
    },
    "papermill": {
     "duration": 0.02633,
     "end_time": "2025-04-15T22:00:54.311387",
     "exception": false,
     "start_time": "2025-04-15T22:00:54.285057",
     "status": "completed"
    },
    "tags": []
   },
   "outputs": [
    {
     "data": {
      "text/html": [
       "<div>\n",
       "<style scoped>\n",
       "    .dataframe tbody tr th:only-of-type {\n",
       "        vertical-align: middle;\n",
       "    }\n",
       "\n",
       "    .dataframe tbody tr th {\n",
       "        vertical-align: top;\n",
       "    }\n",
       "\n",
       "    .dataframe thead th {\n",
       "        text-align: right;\n",
       "    }\n",
       "</style>\n",
       "<table border=\"1\" class=\"dataframe\">\n",
       "  <thead>\n",
       "    <tr style=\"text-align: right;\">\n",
       "      <th></th>\n",
       "      <th>OverallQual</th>\n",
       "      <th>GrLivArea</th>\n",
       "      <th>GarageCars</th>\n",
       "      <th>GarageArea</th>\n",
       "      <th>TotalBsmtSF</th>\n",
       "      <th>1stFlrSF</th>\n",
       "      <th>FullBath</th>\n",
       "      <th>TotRmsAbvGrd</th>\n",
       "      <th>YearBuilt</th>\n",
       "      <th>YearRemodAdd</th>\n",
       "      <th>...</th>\n",
       "      <th>MasVnrArea</th>\n",
       "      <th>Fireplaces</th>\n",
       "      <th>BsmtFinSF1</th>\n",
       "      <th>LotFrontage</th>\n",
       "      <th>WoodDeckSF</th>\n",
       "      <th>2ndFlrSF</th>\n",
       "      <th>OpenPorchSF</th>\n",
       "      <th>HalfBath</th>\n",
       "      <th>LotArea</th>\n",
       "      <th>SalePrice</th>\n",
       "    </tr>\n",
       "    <tr>\n",
       "      <th>Id</th>\n",
       "      <th></th>\n",
       "      <th></th>\n",
       "      <th></th>\n",
       "      <th></th>\n",
       "      <th></th>\n",
       "      <th></th>\n",
       "      <th></th>\n",
       "      <th></th>\n",
       "      <th></th>\n",
       "      <th></th>\n",
       "      <th></th>\n",
       "      <th></th>\n",
       "      <th></th>\n",
       "      <th></th>\n",
       "      <th></th>\n",
       "      <th></th>\n",
       "      <th></th>\n",
       "      <th></th>\n",
       "      <th></th>\n",
       "      <th></th>\n",
       "      <th></th>\n",
       "    </tr>\n",
       "  </thead>\n",
       "  <tbody>\n",
       "    <tr>\n",
       "      <th>1</th>\n",
       "      <td>7</td>\n",
       "      <td>1710</td>\n",
       "      <td>2</td>\n",
       "      <td>548</td>\n",
       "      <td>856</td>\n",
       "      <td>856</td>\n",
       "      <td>2</td>\n",
       "      <td>8</td>\n",
       "      <td>2003</td>\n",
       "      <td>2003</td>\n",
       "      <td>...</td>\n",
       "      <td>196.0</td>\n",
       "      <td>0</td>\n",
       "      <td>706</td>\n",
       "      <td>65.0</td>\n",
       "      <td>0</td>\n",
       "      <td>854</td>\n",
       "      <td>61</td>\n",
       "      <td>1</td>\n",
       "      <td>8450</td>\n",
       "      <td>208500</td>\n",
       "    </tr>\n",
       "    <tr>\n",
       "      <th>2</th>\n",
       "      <td>6</td>\n",
       "      <td>1262</td>\n",
       "      <td>2</td>\n",
       "      <td>460</td>\n",
       "      <td>1262</td>\n",
       "      <td>1262</td>\n",
       "      <td>2</td>\n",
       "      <td>6</td>\n",
       "      <td>1976</td>\n",
       "      <td>1976</td>\n",
       "      <td>...</td>\n",
       "      <td>0.0</td>\n",
       "      <td>1</td>\n",
       "      <td>978</td>\n",
       "      <td>80.0</td>\n",
       "      <td>298</td>\n",
       "      <td>0</td>\n",
       "      <td>0</td>\n",
       "      <td>0</td>\n",
       "      <td>9600</td>\n",
       "      <td>181500</td>\n",
       "    </tr>\n",
       "    <tr>\n",
       "      <th>3</th>\n",
       "      <td>7</td>\n",
       "      <td>1786</td>\n",
       "      <td>2</td>\n",
       "      <td>608</td>\n",
       "      <td>920</td>\n",
       "      <td>920</td>\n",
       "      <td>2</td>\n",
       "      <td>6</td>\n",
       "      <td>2001</td>\n",
       "      <td>2002</td>\n",
       "      <td>...</td>\n",
       "      <td>162.0</td>\n",
       "      <td>1</td>\n",
       "      <td>486</td>\n",
       "      <td>68.0</td>\n",
       "      <td>0</td>\n",
       "      <td>866</td>\n",
       "      <td>42</td>\n",
       "      <td>1</td>\n",
       "      <td>11250</td>\n",
       "      <td>223500</td>\n",
       "    </tr>\n",
       "    <tr>\n",
       "      <th>4</th>\n",
       "      <td>7</td>\n",
       "      <td>1717</td>\n",
       "      <td>3</td>\n",
       "      <td>642</td>\n",
       "      <td>756</td>\n",
       "      <td>961</td>\n",
       "      <td>1</td>\n",
       "      <td>7</td>\n",
       "      <td>1915</td>\n",
       "      <td>1970</td>\n",
       "      <td>...</td>\n",
       "      <td>0.0</td>\n",
       "      <td>1</td>\n",
       "      <td>216</td>\n",
       "      <td>60.0</td>\n",
       "      <td>0</td>\n",
       "      <td>756</td>\n",
       "      <td>35</td>\n",
       "      <td>0</td>\n",
       "      <td>9550</td>\n",
       "      <td>140000</td>\n",
       "    </tr>\n",
       "    <tr>\n",
       "      <th>5</th>\n",
       "      <td>8</td>\n",
       "      <td>2198</td>\n",
       "      <td>3</td>\n",
       "      <td>836</td>\n",
       "      <td>1145</td>\n",
       "      <td>1145</td>\n",
       "      <td>2</td>\n",
       "      <td>9</td>\n",
       "      <td>2000</td>\n",
       "      <td>2000</td>\n",
       "      <td>...</td>\n",
       "      <td>350.0</td>\n",
       "      <td>1</td>\n",
       "      <td>655</td>\n",
       "      <td>84.0</td>\n",
       "      <td>192</td>\n",
       "      <td>1053</td>\n",
       "      <td>84</td>\n",
       "      <td>1</td>\n",
       "      <td>14260</td>\n",
       "      <td>250000</td>\n",
       "    </tr>\n",
       "  </tbody>\n",
       "</table>\n",
       "<p>5 rows × 21 columns</p>\n",
       "</div>"
      ],
      "text/plain": [
       "    OverallQual  GrLivArea  GarageCars  GarageArea  TotalBsmtSF  1stFlrSF  \\\n",
       "Id                                                                          \n",
       "1             7       1710           2         548          856       856   \n",
       "2             6       1262           2         460         1262      1262   \n",
       "3             7       1786           2         608          920       920   \n",
       "4             7       1717           3         642          756       961   \n",
       "5             8       2198           3         836         1145      1145   \n",
       "\n",
       "    FullBath  TotRmsAbvGrd  YearBuilt  YearRemodAdd  ...  MasVnrArea  \\\n",
       "Id                                                   ...               \n",
       "1          2             8       2003          2003  ...       196.0   \n",
       "2          2             6       1976          1976  ...         0.0   \n",
       "3          2             6       2001          2002  ...       162.0   \n",
       "4          1             7       1915          1970  ...         0.0   \n",
       "5          2             9       2000          2000  ...       350.0   \n",
       "\n",
       "    Fireplaces  BsmtFinSF1  LotFrontage  WoodDeckSF  2ndFlrSF  OpenPorchSF  \\\n",
       "Id                                                                           \n",
       "1            0         706         65.0           0       854           61   \n",
       "2            1         978         80.0         298         0            0   \n",
       "3            1         486         68.0           0       866           42   \n",
       "4            1         216         60.0           0       756           35   \n",
       "5            1         655         84.0         192      1053           84   \n",
       "\n",
       "    HalfBath  LotArea  SalePrice  \n",
       "Id                                \n",
       "1          1     8450     208500  \n",
       "2          0     9600     181500  \n",
       "3          1    11250     223500  \n",
       "4          0     9550     140000  \n",
       "5          1    14260     250000  \n",
       "\n",
       "[5 rows x 21 columns]"
      ]
     },
     "execution_count": 13,
     "metadata": {},
     "output_type": "execute_result"
    }
   ],
   "source": [
    "data_cleaned.head()"
   ]
  },
  {
   "cell_type": "code",
   "execution_count": 14,
   "id": "2c43a769",
   "metadata": {
    "execution": {
     "iopub.execute_input": "2025-04-15T22:00:54.326705Z",
     "iopub.status.busy": "2025-04-15T22:00:54.326345Z",
     "iopub.status.idle": "2025-04-15T22:00:54.331345Z",
     "shell.execute_reply": "2025-04-15T22:00:54.330339Z"
    },
    "papermill": {
     "duration": 0.014376,
     "end_time": "2025-04-15T22:00:54.332885",
     "exception": false,
     "start_time": "2025-04-15T22:00:54.318509",
     "status": "completed"
    },
    "tags": []
   },
   "outputs": [],
   "source": [
    "X_cleaned = data_cleaned.iloc[:, :-1]  # Assuming the target is the last column\n",
    "y_cleaned = data_cleaned.iloc[:, -1] # Target column is SalePrice."
   ]
  },
  {
   "cell_type": "code",
   "execution_count": 15,
   "id": "63f03e2a",
   "metadata": {
    "execution": {
     "iopub.execute_input": "2025-04-15T22:00:54.348744Z",
     "iopub.status.busy": "2025-04-15T22:00:54.348371Z",
     "iopub.status.idle": "2025-04-15T22:00:54.359877Z",
     "shell.execute_reply": "2025-04-15T22:00:54.358832Z"
    },
    "papermill": {
     "duration": 0.021268,
     "end_time": "2025-04-15T22:00:54.361451",
     "exception": false,
     "start_time": "2025-04-15T22:00:54.340183",
     "status": "completed"
    },
    "tags": []
   },
   "outputs": [
    {
     "name": "stdout",
     "output_type": "stream",
     "text": [
      "the shape of the training set (input) is: (672, 20)\n",
      "the shape of the training set (target) is: (672,)\n",
      "\n",
      "the shape of the cross validation set (input) is: (224, 20)\n",
      "the shape of the cross validation set (target) is: (224,)\n",
      "\n",
      "the shape of the test set (input) is: (225, 20)\n",
      "the shape of the test set (target) is: (225,)\n"
     ]
    }
   ],
   "source": [
    "# Split the cleaned data into train, test, cross-validation sets\n",
    "\n",
    "#X_train, X_test, y_train, y_test = train_test_split(X_cleaned, y_cleaned, test_size=0.2, random_state=42)\n",
    "\n",
    "# Get 60% of the dataset as the training set\n",
    "X_train, X_, y_train, y_ = train_test_split(X_cleaned, y_cleaned, test_size = 0.4, random_state =42)\n",
    "# Random state ensures that the split is the same every time you run the code, for reproducibility.\n",
    "\n",
    "# Split the 40% subset into 20% for cross validation and 20% for test set \n",
    "X_cv, X_test, y_cv, y_test = train_test_split(X_, y_, test_size =0.5, random_state=42)\n",
    "\n",
    "# Delete temporary variables\n",
    "del X_, y_\n",
    "\n",
    "print(f\"the shape of the training set (input) is: {X_train.shape}\")\n",
    "print(f\"the shape of the training set (target) is: {y_train.shape}\\n\")\n",
    "print(f\"the shape of the cross validation set (input) is: {X_cv.shape}\")\n",
    "print(f\"the shape of the cross validation set (target) is: {y_cv.shape}\\n\")\n",
    "print(f\"the shape of the test set (input) is: {X_test.shape}\")\n",
    "print(f\"the shape of the test set (target) is: {y_test.shape}\")"
   ]
  },
  {
   "cell_type": "code",
   "execution_count": 16,
   "id": "bed93aec",
   "metadata": {
    "execution": {
     "iopub.execute_input": "2025-04-15T22:00:54.376943Z",
     "iopub.status.busy": "2025-04-15T22:00:54.376557Z",
     "iopub.status.idle": "2025-04-15T22:00:54.399116Z",
     "shell.execute_reply": "2025-04-15T22:00:54.398087Z"
    },
    "papermill": {
     "duration": 0.032401,
     "end_time": "2025-04-15T22:00:54.401020",
     "exception": false,
     "start_time": "2025-04-15T22:00:54.368619",
     "status": "completed"
    },
    "tags": []
   },
   "outputs": [
    {
     "data": {
      "text/html": [
       "<style>#sk-container-id-1 {color: black;background-color: white;}#sk-container-id-1 pre{padding: 0;}#sk-container-id-1 div.sk-toggleable {background-color: white;}#sk-container-id-1 label.sk-toggleable__label {cursor: pointer;display: block;width: 100%;margin-bottom: 0;padding: 0.3em;box-sizing: border-box;text-align: center;}#sk-container-id-1 label.sk-toggleable__label-arrow:before {content: \"▸\";float: left;margin-right: 0.25em;color: #696969;}#sk-container-id-1 label.sk-toggleable__label-arrow:hover:before {color: black;}#sk-container-id-1 div.sk-estimator:hover label.sk-toggleable__label-arrow:before {color: black;}#sk-container-id-1 div.sk-toggleable__content {max-height: 0;max-width: 0;overflow: hidden;text-align: left;background-color: #f0f8ff;}#sk-container-id-1 div.sk-toggleable__content pre {margin: 0.2em;color: black;border-radius: 0.25em;background-color: #f0f8ff;}#sk-container-id-1 input.sk-toggleable__control:checked~div.sk-toggleable__content {max-height: 200px;max-width: 100%;overflow: auto;}#sk-container-id-1 input.sk-toggleable__control:checked~label.sk-toggleable__label-arrow:before {content: \"▾\";}#sk-container-id-1 div.sk-estimator input.sk-toggleable__control:checked~label.sk-toggleable__label {background-color: #d4ebff;}#sk-container-id-1 div.sk-label input.sk-toggleable__control:checked~label.sk-toggleable__label {background-color: #d4ebff;}#sk-container-id-1 input.sk-hidden--visually {border: 0;clip: rect(1px 1px 1px 1px);clip: rect(1px, 1px, 1px, 1px);height: 1px;margin: -1px;overflow: hidden;padding: 0;position: absolute;width: 1px;}#sk-container-id-1 div.sk-estimator {font-family: monospace;background-color: #f0f8ff;border: 1px dotted black;border-radius: 0.25em;box-sizing: border-box;margin-bottom: 0.5em;}#sk-container-id-1 div.sk-estimator:hover {background-color: #d4ebff;}#sk-container-id-1 div.sk-parallel-item::after {content: \"\";width: 100%;border-bottom: 1px solid gray;flex-grow: 1;}#sk-container-id-1 div.sk-label:hover label.sk-toggleable__label {background-color: #d4ebff;}#sk-container-id-1 div.sk-serial::before {content: \"\";position: absolute;border-left: 1px solid gray;box-sizing: border-box;top: 0;bottom: 0;left: 50%;z-index: 0;}#sk-container-id-1 div.sk-serial {display: flex;flex-direction: column;align-items: center;background-color: white;padding-right: 0.2em;padding-left: 0.2em;position: relative;}#sk-container-id-1 div.sk-item {position: relative;z-index: 1;}#sk-container-id-1 div.sk-parallel {display: flex;align-items: stretch;justify-content: center;background-color: white;position: relative;}#sk-container-id-1 div.sk-item::before, #sk-container-id-1 div.sk-parallel-item::before {content: \"\";position: absolute;border-left: 1px solid gray;box-sizing: border-box;top: 0;bottom: 0;left: 50%;z-index: -1;}#sk-container-id-1 div.sk-parallel-item {display: flex;flex-direction: column;z-index: 1;position: relative;background-color: white;}#sk-container-id-1 div.sk-parallel-item:first-child::after {align-self: flex-end;width: 50%;}#sk-container-id-1 div.sk-parallel-item:last-child::after {align-self: flex-start;width: 50%;}#sk-container-id-1 div.sk-parallel-item:only-child::after {width: 0;}#sk-container-id-1 div.sk-dashed-wrapped {border: 1px dashed gray;margin: 0 0.4em 0.5em 0.4em;box-sizing: border-box;padding-bottom: 0.4em;background-color: white;}#sk-container-id-1 div.sk-label label {font-family: monospace;font-weight: bold;display: inline-block;line-height: 1.2em;}#sk-container-id-1 div.sk-label-container {text-align: center;}#sk-container-id-1 div.sk-container {/* jupyter's `normalize.less` sets `[hidden] { display: none; }` but bootstrap.min.css set `[hidden] { display: none !important; }` so we also need the `!important` here to be able to override the default hidden behavior on the sphinx rendered scikit-learn.org. See: https://github.com/scikit-learn/scikit-learn/issues/21755 */display: inline-block !important;position: relative;}#sk-container-id-1 div.sk-text-repr-fallback {display: none;}</style><div id=\"sk-container-id-1\" class=\"sk-top-container\"><div class=\"sk-text-repr-fallback\"><pre>DecisionTreeRegressor(random_state=1)</pre><b>In a Jupyter environment, please rerun this cell to show the HTML representation or trust the notebook. <br />On GitHub, the HTML representation is unable to render, please try loading this page with nbviewer.org.</b></div><div class=\"sk-container\" hidden><div class=\"sk-item\"><div class=\"sk-estimator sk-toggleable\"><input class=\"sk-toggleable__control sk-hidden--visually\" id=\"sk-estimator-id-1\" type=\"checkbox\" checked><label for=\"sk-estimator-id-1\" class=\"sk-toggleable__label sk-toggleable__label-arrow\">DecisionTreeRegressor</label><div class=\"sk-toggleable__content\"><pre>DecisionTreeRegressor(random_state=1)</pre></div></div></div></div></div>"
      ],
      "text/plain": [
       "DecisionTreeRegressor(random_state=1)"
      ]
     },
     "execution_count": 16,
     "metadata": {},
     "output_type": "execute_result"
    }
   ],
   "source": [
    "house_model.fit(X_train, y_train)"
   ]
  },
  {
   "cell_type": "code",
   "execution_count": 17,
   "id": "53398b8d",
   "metadata": {
    "execution": {
     "iopub.execute_input": "2025-04-15T22:00:54.417404Z",
     "iopub.status.busy": "2025-04-15T22:00:54.416994Z",
     "iopub.status.idle": "2025-04-15T22:00:54.423096Z",
     "shell.execute_reply": "2025-04-15T22:00:54.422137Z"
    },
    "papermill": {
     "duration": 0.016028,
     "end_time": "2025-04-15T22:00:54.424794",
     "exception": false,
     "start_time": "2025-04-15T22:00:54.408766",
     "status": "completed"
    },
    "tags": []
   },
   "outputs": [],
   "source": [
    "# Make predictions\n",
    "predictions = house_model.predict(X_test)"
   ]
  },
  {
   "cell_type": "code",
   "execution_count": 18,
   "id": "3a539392",
   "metadata": {
    "execution": {
     "iopub.execute_input": "2025-04-15T22:00:54.441139Z",
     "iopub.status.busy": "2025-04-15T22:00:54.440731Z",
     "iopub.status.idle": "2025-04-15T22:00:54.448048Z",
     "shell.execute_reply": "2025-04-15T22:00:54.447134Z"
    },
    "papermill": {
     "duration": 0.017471,
     "end_time": "2025-04-15T22:00:54.449756",
     "exception": false,
     "start_time": "2025-04-15T22:00:54.432285",
     "status": "completed"
    },
    "tags": []
   },
   "outputs": [
    {
     "name": "stdout",
     "output_type": "stream",
     "text": [
      "30277.933333333334\n",
      "2504992869.3377776\n",
      "50049.903789495715\n"
     ]
    }
   ],
   "source": [
    "# Evaluate the model: MAE, MSE, RMSE\n",
    "MAE = mean_absolute_error(y_test, predictions)\n",
    "MSE = mean_squared_error(y_test, predictions)\n",
    "RMSE = np.sqrt(MSE)\n",
    "\n",
    "print(MAE)\n",
    "# With an MAE of 22,868, this means that on average my model's predictions are off by £22,688. Avg house price in dataset is £180,921. On average 12.5% error. \n",
    "print(MSE)\n",
    "print(RMSE)\n",
    "# RMSE of first iteration of the model is £33,189. RMSE penalises larger errors more heavily than MAE."
   ]
  },
  {
   "cell_type": "code",
   "execution_count": 19,
   "id": "07645b41",
   "metadata": {
    "execution": {
     "iopub.execute_input": "2025-04-15T22:00:54.465674Z",
     "iopub.status.busy": "2025-04-15T22:00:54.465315Z",
     "iopub.status.idle": "2025-04-15T22:00:54.469016Z",
     "shell.execute_reply": "2025-04-15T22:00:54.468174Z"
    },
    "papermill": {
     "duration": 0.01338,
     "end_time": "2025-04-15T22:00:54.470523",
     "exception": false,
     "start_time": "2025-04-15T22:00:54.457143",
     "status": "completed"
    },
    "tags": []
   },
   "outputs": [],
   "source": [
    "# Improving the model through hyperparameter tuning\n",
    "# Using GridSearchCV\n",
    "\n",
    "from sklearn.model_selection import GridSearchCV"
   ]
  },
  {
   "cell_type": "code",
   "execution_count": 20,
   "id": "64b9edcd",
   "metadata": {
    "execution": {
     "iopub.execute_input": "2025-04-15T22:00:54.486632Z",
     "iopub.status.busy": "2025-04-15T22:00:54.486177Z",
     "iopub.status.idle": "2025-04-15T22:00:54.490770Z",
     "shell.execute_reply": "2025-04-15T22:00:54.489658Z"
    },
    "papermill": {
     "duration": 0.014513,
     "end_time": "2025-04-15T22:00:54.492519",
     "exception": false,
     "start_time": "2025-04-15T22:00:54.478006",
     "status": "completed"
    },
    "tags": []
   },
   "outputs": [],
   "source": [
    "# Create a 2nd model that will use for hyperparameter training\n",
    "# This is the model that will be tuned.\n",
    "\n",
    "house_model_v2 = DecisionTreeRegressor(random_state=42)"
   ]
  },
  {
   "cell_type": "code",
   "execution_count": 21,
   "id": "3dbcc182",
   "metadata": {
    "execution": {
     "iopub.execute_input": "2025-04-15T22:00:54.509076Z",
     "iopub.status.busy": "2025-04-15T22:00:54.508691Z",
     "iopub.status.idle": "2025-04-15T22:00:54.513285Z",
     "shell.execute_reply": "2025-04-15T22:00:54.512325Z"
    },
    "papermill": {
     "duration": 0.014908,
     "end_time": "2025-04-15T22:00:54.514955",
     "exception": false,
     "start_time": "2025-04-15T22:00:54.500047",
     "status": "completed"
    },
    "tags": []
   },
   "outputs": [],
   "source": [
    "# Parameters that we will vary with GridSearch.\n",
    "# Parameter grid. It's a dictionary that specifies the hyperparemeters that will be tuned.\n",
    "\n",
    "# Max_depth is the maximum depth of the tree.\n",
    "# Min_samples_splt is the min number of samples required to split an internal node.\n",
    "# Min_samples_leaf is the min number of samples required to be at a leaf node.\n",
    "# Max_features is the number of features to consider when looking for the best split.\n",
    "\n",
    "param_grid = {\n",
    "    'max_depth': [None, 5, 10, 15, 20],\n",
    "    'min_samples_split': [2, 5, 10, 20],\n",
    "    'min_samples_leaf': [1, 3, 5, 10],\n",
    "    'max_features': ['auto', 'sqrt', 'log2', None]  \n",
    "}"
   ]
  },
  {
   "cell_type": "code",
   "execution_count": 22,
   "id": "d6b48407",
   "metadata": {
    "execution": {
     "iopub.execute_input": "2025-04-15T22:00:54.531232Z",
     "iopub.status.busy": "2025-04-15T22:00:54.530836Z",
     "iopub.status.idle": "2025-04-15T22:00:54.535010Z",
     "shell.execute_reply": "2025-04-15T22:00:54.534108Z"
    },
    "papermill": {
     "duration": 0.014093,
     "end_time": "2025-04-15T22:00:54.536655",
     "exception": false,
     "start_time": "2025-04-15T22:00:54.522562",
     "status": "completed"
    },
    "tags": []
   },
   "outputs": [],
   "source": [
    "from sklearn.metrics import make_scorer, mean_squared_error, mean_absolute_error\n",
    "# Have to choose a scoring metric to evaluate the performance of each hyperparameter combination.\n",
    "\n",
    "# Using negative mean squared error as the scoring metric\n",
    "scoring_metric = 'neg_mean_squared_error'\n",
    "\n",
    "# Alternatively, to minimize MAE:\n",
    "# scoring_metric = 'neg_mean_absolute_error'\n",
    "\n",
    "# Or to maximize R-squared:\n",
    "# scoring_metric = 'r2'"
   ]
  },
  {
   "cell_type": "code",
   "execution_count": 23,
   "id": "4ce9e9ee",
   "metadata": {
    "execution": {
     "iopub.execute_input": "2025-04-15T22:00:54.552752Z",
     "iopub.status.busy": "2025-04-15T22:00:54.552364Z",
     "iopub.status.idle": "2025-04-15T22:00:54.556791Z",
     "shell.execute_reply": "2025-04-15T22:00:54.555820Z"
    },
    "papermill": {
     "duration": 0.014231,
     "end_time": "2025-04-15T22:00:54.558402",
     "exception": false,
     "start_time": "2025-04-15T22:00:54.544171",
     "status": "completed"
    },
    "tags": []
   },
   "outputs": [],
   "source": [
    "grid_search = GridSearchCV(estimator=house_model_v2,\n",
    "                           param_grid=param_grid,\n",
    "                           scoring=scoring_metric,\n",
    "                           cv=5, # The number of cross-validation folds. Common values is 5 or 10.\n",
    "                           n_jobs=-1, # uses all CPU cores\n",
    "                           verbose=2) # Controls the amount of output during the search."
   ]
  },
  {
   "cell_type": "code",
   "execution_count": 24,
   "id": "0ced3360",
   "metadata": {
    "execution": {
     "iopub.execute_input": "2025-04-15T22:00:54.575603Z",
     "iopub.status.busy": "2025-04-15T22:00:54.575201Z",
     "iopub.status.idle": "2025-04-15T22:01:01.344619Z",
     "shell.execute_reply": "2025-04-15T22:01:01.343236Z"
    },
    "papermill": {
     "duration": 6.780216,
     "end_time": "2025-04-15T22:01:01.346628",
     "exception": false,
     "start_time": "2025-04-15T22:00:54.566412",
     "status": "completed"
    },
    "tags": []
   },
   "outputs": [
    {
     "name": "stdout",
     "output_type": "stream",
     "text": [
      "Fitting 5 folds for each of 320 candidates, totalling 1600 fits\n"
     ]
    },
    {
     "name": "stderr",
     "output_type": "stream",
     "text": [
      "/usr/local/lib/python3.10/dist-packages/sklearn/tree/_classes.py:277: FutureWarning: `max_features='auto'` has been deprecated in 1.1 and will be removed in 1.3. To keep the past behaviour, explicitly set `max_features=1.0'`.\n",
      "  warnings.warn(\n"
     ]
    },
    {
     "data": {
      "text/html": [
       "<style>#sk-container-id-2 {color: black;background-color: white;}#sk-container-id-2 pre{padding: 0;}#sk-container-id-2 div.sk-toggleable {background-color: white;}#sk-container-id-2 label.sk-toggleable__label {cursor: pointer;display: block;width: 100%;margin-bottom: 0;padding: 0.3em;box-sizing: border-box;text-align: center;}#sk-container-id-2 label.sk-toggleable__label-arrow:before {content: \"▸\";float: left;margin-right: 0.25em;color: #696969;}#sk-container-id-2 label.sk-toggleable__label-arrow:hover:before {color: black;}#sk-container-id-2 div.sk-estimator:hover label.sk-toggleable__label-arrow:before {color: black;}#sk-container-id-2 div.sk-toggleable__content {max-height: 0;max-width: 0;overflow: hidden;text-align: left;background-color: #f0f8ff;}#sk-container-id-2 div.sk-toggleable__content pre {margin: 0.2em;color: black;border-radius: 0.25em;background-color: #f0f8ff;}#sk-container-id-2 input.sk-toggleable__control:checked~div.sk-toggleable__content {max-height: 200px;max-width: 100%;overflow: auto;}#sk-container-id-2 input.sk-toggleable__control:checked~label.sk-toggleable__label-arrow:before {content: \"▾\";}#sk-container-id-2 div.sk-estimator input.sk-toggleable__control:checked~label.sk-toggleable__label {background-color: #d4ebff;}#sk-container-id-2 div.sk-label input.sk-toggleable__control:checked~label.sk-toggleable__label {background-color: #d4ebff;}#sk-container-id-2 input.sk-hidden--visually {border: 0;clip: rect(1px 1px 1px 1px);clip: rect(1px, 1px, 1px, 1px);height: 1px;margin: -1px;overflow: hidden;padding: 0;position: absolute;width: 1px;}#sk-container-id-2 div.sk-estimator {font-family: monospace;background-color: #f0f8ff;border: 1px dotted black;border-radius: 0.25em;box-sizing: border-box;margin-bottom: 0.5em;}#sk-container-id-2 div.sk-estimator:hover {background-color: #d4ebff;}#sk-container-id-2 div.sk-parallel-item::after {content: \"\";width: 100%;border-bottom: 1px solid gray;flex-grow: 1;}#sk-container-id-2 div.sk-label:hover label.sk-toggleable__label {background-color: #d4ebff;}#sk-container-id-2 div.sk-serial::before {content: \"\";position: absolute;border-left: 1px solid gray;box-sizing: border-box;top: 0;bottom: 0;left: 50%;z-index: 0;}#sk-container-id-2 div.sk-serial {display: flex;flex-direction: column;align-items: center;background-color: white;padding-right: 0.2em;padding-left: 0.2em;position: relative;}#sk-container-id-2 div.sk-item {position: relative;z-index: 1;}#sk-container-id-2 div.sk-parallel {display: flex;align-items: stretch;justify-content: center;background-color: white;position: relative;}#sk-container-id-2 div.sk-item::before, #sk-container-id-2 div.sk-parallel-item::before {content: \"\";position: absolute;border-left: 1px solid gray;box-sizing: border-box;top: 0;bottom: 0;left: 50%;z-index: -1;}#sk-container-id-2 div.sk-parallel-item {display: flex;flex-direction: column;z-index: 1;position: relative;background-color: white;}#sk-container-id-2 div.sk-parallel-item:first-child::after {align-self: flex-end;width: 50%;}#sk-container-id-2 div.sk-parallel-item:last-child::after {align-self: flex-start;width: 50%;}#sk-container-id-2 div.sk-parallel-item:only-child::after {width: 0;}#sk-container-id-2 div.sk-dashed-wrapped {border: 1px dashed gray;margin: 0 0.4em 0.5em 0.4em;box-sizing: border-box;padding-bottom: 0.4em;background-color: white;}#sk-container-id-2 div.sk-label label {font-family: monospace;font-weight: bold;display: inline-block;line-height: 1.2em;}#sk-container-id-2 div.sk-label-container {text-align: center;}#sk-container-id-2 div.sk-container {/* jupyter's `normalize.less` sets `[hidden] { display: none; }` but bootstrap.min.css set `[hidden] { display: none !important; }` so we also need the `!important` here to be able to override the default hidden behavior on the sphinx rendered scikit-learn.org. See: https://github.com/scikit-learn/scikit-learn/issues/21755 */display: inline-block !important;position: relative;}#sk-container-id-2 div.sk-text-repr-fallback {display: none;}</style><div id=\"sk-container-id-2\" class=\"sk-top-container\"><div class=\"sk-text-repr-fallback\"><pre>GridSearchCV(cv=5, estimator=DecisionTreeRegressor(random_state=42), n_jobs=-1,\n",
       "             param_grid={&#x27;max_depth&#x27;: [None, 5, 10, 15, 20],\n",
       "                         &#x27;max_features&#x27;: [&#x27;auto&#x27;, &#x27;sqrt&#x27;, &#x27;log2&#x27;, None],\n",
       "                         &#x27;min_samples_leaf&#x27;: [1, 3, 5, 10],\n",
       "                         &#x27;min_samples_split&#x27;: [2, 5, 10, 20]},\n",
       "             scoring=&#x27;neg_mean_squared_error&#x27;, verbose=2)</pre><b>In a Jupyter environment, please rerun this cell to show the HTML representation or trust the notebook. <br />On GitHub, the HTML representation is unable to render, please try loading this page with nbviewer.org.</b></div><div class=\"sk-container\" hidden><div class=\"sk-item sk-dashed-wrapped\"><div class=\"sk-label-container\"><div class=\"sk-label sk-toggleable\"><input class=\"sk-toggleable__control sk-hidden--visually\" id=\"sk-estimator-id-2\" type=\"checkbox\" ><label for=\"sk-estimator-id-2\" class=\"sk-toggleable__label sk-toggleable__label-arrow\">GridSearchCV</label><div class=\"sk-toggleable__content\"><pre>GridSearchCV(cv=5, estimator=DecisionTreeRegressor(random_state=42), n_jobs=-1,\n",
       "             param_grid={&#x27;max_depth&#x27;: [None, 5, 10, 15, 20],\n",
       "                         &#x27;max_features&#x27;: [&#x27;auto&#x27;, &#x27;sqrt&#x27;, &#x27;log2&#x27;, None],\n",
       "                         &#x27;min_samples_leaf&#x27;: [1, 3, 5, 10],\n",
       "                         &#x27;min_samples_split&#x27;: [2, 5, 10, 20]},\n",
       "             scoring=&#x27;neg_mean_squared_error&#x27;, verbose=2)</pre></div></div></div><div class=\"sk-parallel\"><div class=\"sk-parallel-item\"><div class=\"sk-item\"><div class=\"sk-label-container\"><div class=\"sk-label sk-toggleable\"><input class=\"sk-toggleable__control sk-hidden--visually\" id=\"sk-estimator-id-3\" type=\"checkbox\" ><label for=\"sk-estimator-id-3\" class=\"sk-toggleable__label sk-toggleable__label-arrow\">estimator: DecisionTreeRegressor</label><div class=\"sk-toggleable__content\"><pre>DecisionTreeRegressor(random_state=42)</pre></div></div></div><div class=\"sk-serial\"><div class=\"sk-item\"><div class=\"sk-estimator sk-toggleable\"><input class=\"sk-toggleable__control sk-hidden--visually\" id=\"sk-estimator-id-4\" type=\"checkbox\" ><label for=\"sk-estimator-id-4\" class=\"sk-toggleable__label sk-toggleable__label-arrow\">DecisionTreeRegressor</label><div class=\"sk-toggleable__content\"><pre>DecisionTreeRegressor(random_state=42)</pre></div></div></div></div></div></div></div></div></div></div>"
      ],
      "text/plain": [
       "GridSearchCV(cv=5, estimator=DecisionTreeRegressor(random_state=42), n_jobs=-1,\n",
       "             param_grid={'max_depth': [None, 5, 10, 15, 20],\n",
       "                         'max_features': ['auto', 'sqrt', 'log2', None],\n",
       "                         'min_samples_leaf': [1, 3, 5, 10],\n",
       "                         'min_samples_split': [2, 5, 10, 20]},\n",
       "             scoring='neg_mean_squared_error', verbose=2)"
      ]
     },
     "execution_count": 24,
     "metadata": {},
     "output_type": "execute_result"
    }
   ],
   "source": [
    "grid_search.fit(X_train, y_train)"
   ]
  },
  {
   "cell_type": "code",
   "execution_count": 25,
   "id": "cea3360d",
   "metadata": {
    "execution": {
     "iopub.execute_input": "2025-04-15T22:01:01.369067Z",
     "iopub.status.busy": "2025-04-15T22:01:01.368706Z",
     "iopub.status.idle": "2025-04-15T22:01:01.374077Z",
     "shell.execute_reply": "2025-04-15T22:01:01.372871Z"
    },
    "papermill": {
     "duration": 0.016956,
     "end_time": "2025-04-15T22:01:01.375729",
     "exception": false,
     "start_time": "2025-04-15T22:01:01.358773",
     "status": "completed"
    },
    "tags": []
   },
   "outputs": [
    {
     "name": "stdout",
     "output_type": "stream",
     "text": [
      "Best Hyperparameters: {'max_depth': None, 'max_features': 'auto', 'min_samples_leaf': 1, 'min_samples_split': 10}\n"
     ]
    }
   ],
   "source": [
    "print(\"Best Hyperparameters:\", grid_search.best_params_)"
   ]
  },
  {
   "cell_type": "code",
   "execution_count": 26,
   "id": "c2b86be7",
   "metadata": {
    "execution": {
     "iopub.execute_input": "2025-04-15T22:01:01.392873Z",
     "iopub.status.busy": "2025-04-15T22:01:01.392540Z",
     "iopub.status.idle": "2025-04-15T22:01:01.397873Z",
     "shell.execute_reply": "2025-04-15T22:01:01.396759Z"
    },
    "papermill": {
     "duration": 0.015895,
     "end_time": "2025-04-15T22:01:01.399646",
     "exception": false,
     "start_time": "2025-04-15T22:01:01.383751",
     "status": "completed"
    },
    "tags": []
   },
   "outputs": [
    {
     "name": "stdout",
     "output_type": "stream",
     "text": [
      "Best Score: -1770726204.4919262\n"
     ]
    }
   ],
   "source": [
    "print(\"Best Score:\", grid_search.best_score_)"
   ]
  },
  {
   "cell_type": "code",
   "execution_count": 27,
   "id": "1da8af05",
   "metadata": {
    "execution": {
     "iopub.execute_input": "2025-04-15T22:01:01.417166Z",
     "iopub.status.busy": "2025-04-15T22:01:01.416801Z",
     "iopub.status.idle": "2025-04-15T22:01:01.420788Z",
     "shell.execute_reply": "2025-04-15T22:01:01.419748Z"
    },
    "papermill": {
     "duration": 0.014854,
     "end_time": "2025-04-15T22:01:01.422530",
     "exception": false,
     "start_time": "2025-04-15T22:01:01.407676",
     "status": "completed"
    },
    "tags": []
   },
   "outputs": [],
   "source": [
    "best_model = grid_search.best_estimator_"
   ]
  },
  {
   "cell_type": "code",
   "execution_count": 28,
   "id": "c796d17d",
   "metadata": {
    "execution": {
     "iopub.execute_input": "2025-04-15T22:01:01.440799Z",
     "iopub.status.busy": "2025-04-15T22:01:01.440444Z",
     "iopub.status.idle": "2025-04-15T22:01:01.451202Z",
     "shell.execute_reply": "2025-04-15T22:01:01.450058Z"
    },
    "papermill": {
     "duration": 0.0225,
     "end_time": "2025-04-15T22:01:01.453069",
     "exception": false,
     "start_time": "2025-04-15T22:01:01.430569",
     "status": "completed"
    },
    "tags": []
   },
   "outputs": [
    {
     "name": "stdout",
     "output_type": "stream",
     "text": [
      "Performance on Test Set (Best Model):\n",
      "Mean Squared Error: 2157101966.741212\n",
      "Mean Absolute Error: 28862.319156966492\n",
      "R-squared: 0.7170942124981097\n"
     ]
    }
   ],
   "source": [
    "predictions = best_model.predict(X_test)\n",
    "mse = mean_squared_error(y_test, predictions)\n",
    "mae = mean_absolute_error(y_test, predictions)\n",
    "r2 = r2_score(y_test, predictions)\n",
    "\n",
    "print(\"Performance on Test Set (Best Model):\")\n",
    "print(f\"Mean Squared Error: {mse}\")\n",
    "print(f\"Mean Absolute Error: {mae}\")\n",
    "print(f\"R-squared: {r2}\")"
   ]
  },
  {
   "cell_type": "code",
   "execution_count": 29,
   "id": "125f4df0",
   "metadata": {
    "execution": {
     "iopub.execute_input": "2025-04-15T22:01:01.470333Z",
     "iopub.status.busy": "2025-04-15T22:01:01.469946Z",
     "iopub.status.idle": "2025-04-15T22:01:01.474799Z",
     "shell.execute_reply": "2025-04-15T22:01:01.473682Z"
    },
    "papermill": {
     "duration": 0.015254,
     "end_time": "2025-04-15T22:01:01.476411",
     "exception": false,
     "start_time": "2025-04-15T22:01:01.461157",
     "status": "completed"
    },
    "tags": []
   },
   "outputs": [
    {
     "name": "stdout",
     "output_type": "stream",
     "text": [
      "46444.6118160246\n"
     ]
    }
   ],
   "source": [
    "print(np.sqrt(mse))"
   ]
  },
  {
   "cell_type": "code",
   "execution_count": 30,
   "id": "7035672e",
   "metadata": {
    "execution": {
     "iopub.execute_input": "2025-04-15T22:01:01.493645Z",
     "iopub.status.busy": "2025-04-15T22:01:01.493229Z",
     "iopub.status.idle": "2025-04-15T22:01:01.497225Z",
     "shell.execute_reply": "2025-04-15T22:01:01.496301Z"
    },
    "papermill": {
     "duration": 0.014498,
     "end_time": "2025-04-15T22:01:01.498913",
     "exception": false,
     "start_time": "2025-04-15T22:01:01.484415",
     "status": "completed"
    },
    "tags": []
   },
   "outputs": [],
   "source": [
    "# With GridSearch, I've gotten my MSE down to £46,444 from £50k and my MAE is now £28k down from £30k."
   ]
  }
 ],
 "metadata": {
  "kaggle": {
   "accelerator": "none",
   "dataSources": [
    {
     "databundleVersionId": 111096,
     "sourceId": 10211,
     "sourceType": "competition"
    }
   ],
   "dockerImageVersionId": 30839,
   "isGpuEnabled": false,
   "isInternetEnabled": false,
   "language": "python",
   "sourceType": "notebook"
  },
  "kernelspec": {
   "display_name": "Python 3",
   "language": "python",
   "name": "python3"
  },
  "language_info": {
   "codemirror_mode": {
    "name": "ipython",
    "version": 3
   },
   "file_extension": ".py",
   "mimetype": "text/x-python",
   "name": "python",
   "nbconvert_exporter": "python",
   "pygments_lexer": "ipython3",
   "version": "3.10.12"
  },
  "papermill": {
   "default_parameters": {},
   "duration": 15.082809,
   "end_time": "2025-04-15T22:01:02.329204",
   "environment_variables": {},
   "exception": null,
   "input_path": "__notebook__.ipynb",
   "output_path": "__notebook__.ipynb",
   "parameters": {},
   "start_time": "2025-04-15T22:00:47.246395",
   "version": "2.6.0"
  }
 },
 "nbformat": 4,
 "nbformat_minor": 5
}
