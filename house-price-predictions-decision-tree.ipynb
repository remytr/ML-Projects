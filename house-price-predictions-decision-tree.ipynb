{
 "cells": [
  {
   "cell_type": "code",
   "execution_count": 1,
   "id": "e24dab42",
   "metadata": {
    "_cell_guid": "b1076dfc-b9ad-4769-8c92-a6c4dae69d19",
    "_uuid": "8f2839f25d086af736a60e9eeb907d3b93b6e0e5",
    "execution": {
     "iopub.execute_input": "2025-04-08T22:21:01.876317Z",
     "iopub.status.busy": "2025-04-08T22:21:01.875943Z",
     "iopub.status.idle": "2025-04-08T22:21:04.690359Z",
     "shell.execute_reply": "2025-04-08T22:21:04.688984Z"
    },
    "papermill": {
     "duration": 2.822792,
     "end_time": "2025-04-08T22:21:04.692162",
     "exception": false,
     "start_time": "2025-04-08T22:21:01.869370",
     "status": "completed"
    },
    "tags": []
   },
   "outputs": [
    {
     "name": "stdout",
     "output_type": "stream",
     "text": [
      "/kaggle/input/home-data-for-ml-course/sample_submission.csv\n",
      "/kaggle/input/home-data-for-ml-course/sample_submission.csv.gz\n",
      "/kaggle/input/home-data-for-ml-course/train.csv.gz\n",
      "/kaggle/input/home-data-for-ml-course/data_description.txt\n",
      "/kaggle/input/home-data-for-ml-course/test.csv.gz\n",
      "/kaggle/input/home-data-for-ml-course/train.csv\n",
      "/kaggle/input/home-data-for-ml-course/test.csv\n"
     ]
    }
   ],
   "source": [
    "# This Python 3 environment comes with many helpful analytics libraries installed\n",
    "# It is defined by the kaggle/python Docker image: https://github.com/kaggle/docker-python\n",
    "# For example, here's several helpful packages to load\n",
    "\n",
    "import numpy as np # linear algebra\n",
    "import pandas as pd # data processing, CSV file I/O (e.g. pd.read_csv)\n",
    "import seaborn as sns\n",
    "\n",
    "\n",
    "# Input data files are available in the read-only \"../input/\" directory\n",
    "# For example, running this (by clicking run or pressing Shift+Enter) will list all files under the input directory\n",
    "\n",
    "import os\n",
    "for dirname, _, filenames in os.walk('/kaggle/input'):\n",
    "    for filename in filenames:\n",
    "        print(os.path.join(dirname, filename))\n",
    "\n",
    "# You can write up to 20GB to the current directory (/kaggle/working/) that gets preserved as output when you create a version using \"Save & Run All\" \n",
    "# You can also write temporary files to /kaggle/temp/, but they won't be saved outside of the current session"
   ]
  },
  {
   "cell_type": "code",
   "execution_count": 2,
   "id": "5b73a9a5",
   "metadata": {
    "execution": {
     "iopub.execute_input": "2025-04-08T22:21:04.704289Z",
     "iopub.status.busy": "2025-04-08T22:21:04.703690Z",
     "iopub.status.idle": "2025-04-08T22:21:05.120600Z",
     "shell.execute_reply": "2025-04-08T22:21:05.119589Z"
    },
    "papermill": {
     "duration": 0.425802,
     "end_time": "2025-04-08T22:21:05.123220",
     "exception": false,
     "start_time": "2025-04-08T22:21:04.697418",
     "status": "completed"
    },
    "tags": []
   },
   "outputs": [],
   "source": [
    "from sklearn.model_selection import train_test_split\n",
    "from sklearn.linear_model import LinearRegression\n",
    "from sklearn.metrics import mean_squared_error, r2_score\n",
    "from sklearn.preprocessing import StandardScaler\n",
    "from sklearn.metrics import mean_absolute_error\n",
    "from sklearn.linear_model import SGDRegressor\n",
    "import matplotlib.pyplot as plt\n"
   ]
  },
  {
   "cell_type": "code",
   "execution_count": 3,
   "id": "b35ca651",
   "metadata": {
    "execution": {
     "iopub.execute_input": "2025-04-08T22:21:05.141107Z",
     "iopub.status.busy": "2025-04-08T22:21:05.140685Z",
     "iopub.status.idle": "2025-04-08T22:21:05.208133Z",
     "shell.execute_reply": "2025-04-08T22:21:05.207029Z"
    },
    "papermill": {
     "duration": 0.078668,
     "end_time": "2025-04-08T22:21:05.210149",
     "exception": false,
     "start_time": "2025-04-08T22:21:05.131481",
     "status": "completed"
    },
    "tags": []
   },
   "outputs": [],
   "source": [
    "# Read in the data \n",
    "df = pd.read_csv('/kaggle/input/home-data-for-ml-course/train.csv',index_col = 'Id')"
   ]
  },
  {
   "cell_type": "code",
   "execution_count": 4,
   "id": "88d3a924",
   "metadata": {
    "execution": {
     "iopub.execute_input": "2025-04-08T22:21:05.221679Z",
     "iopub.status.busy": "2025-04-08T22:21:05.221353Z",
     "iopub.status.idle": "2025-04-08T22:21:05.318079Z",
     "shell.execute_reply": "2025-04-08T22:21:05.316698Z"
    },
    "papermill": {
     "duration": 0.104956,
     "end_time": "2025-04-08T22:21:05.320133",
     "exception": false,
     "start_time": "2025-04-08T22:21:05.215177",
     "status": "completed"
    },
    "tags": []
   },
   "outputs": [
    {
     "data": {
      "text/html": [
       "<div>\n",
       "<style scoped>\n",
       "    .dataframe tbody tr th:only-of-type {\n",
       "        vertical-align: middle;\n",
       "    }\n",
       "\n",
       "    .dataframe tbody tr th {\n",
       "        vertical-align: top;\n",
       "    }\n",
       "\n",
       "    .dataframe thead th {\n",
       "        text-align: right;\n",
       "    }\n",
       "</style>\n",
       "<table border=\"1\" class=\"dataframe\">\n",
       "  <thead>\n",
       "    <tr style=\"text-align: right;\">\n",
       "      <th></th>\n",
       "      <th>MSSubClass</th>\n",
       "      <th>LotFrontage</th>\n",
       "      <th>LotArea</th>\n",
       "      <th>OverallQual</th>\n",
       "      <th>OverallCond</th>\n",
       "      <th>YearBuilt</th>\n",
       "      <th>YearRemodAdd</th>\n",
       "      <th>MasVnrArea</th>\n",
       "      <th>BsmtFinSF1</th>\n",
       "      <th>BsmtFinSF2</th>\n",
       "      <th>...</th>\n",
       "      <th>WoodDeckSF</th>\n",
       "      <th>OpenPorchSF</th>\n",
       "      <th>EnclosedPorch</th>\n",
       "      <th>3SsnPorch</th>\n",
       "      <th>ScreenPorch</th>\n",
       "      <th>PoolArea</th>\n",
       "      <th>MiscVal</th>\n",
       "      <th>MoSold</th>\n",
       "      <th>YrSold</th>\n",
       "      <th>SalePrice</th>\n",
       "    </tr>\n",
       "  </thead>\n",
       "  <tbody>\n",
       "    <tr>\n",
       "      <th>count</th>\n",
       "      <td>1460.000000</td>\n",
       "      <td>1201.000000</td>\n",
       "      <td>1460.000000</td>\n",
       "      <td>1460.000000</td>\n",
       "      <td>1460.000000</td>\n",
       "      <td>1460.000000</td>\n",
       "      <td>1460.000000</td>\n",
       "      <td>1452.000000</td>\n",
       "      <td>1460.000000</td>\n",
       "      <td>1460.000000</td>\n",
       "      <td>...</td>\n",
       "      <td>1460.000000</td>\n",
       "      <td>1460.000000</td>\n",
       "      <td>1460.000000</td>\n",
       "      <td>1460.000000</td>\n",
       "      <td>1460.000000</td>\n",
       "      <td>1460.000000</td>\n",
       "      <td>1460.000000</td>\n",
       "      <td>1460.000000</td>\n",
       "      <td>1460.000000</td>\n",
       "      <td>1460.000000</td>\n",
       "    </tr>\n",
       "    <tr>\n",
       "      <th>mean</th>\n",
       "      <td>56.897260</td>\n",
       "      <td>70.049958</td>\n",
       "      <td>10516.828082</td>\n",
       "      <td>6.099315</td>\n",
       "      <td>5.575342</td>\n",
       "      <td>1971.267808</td>\n",
       "      <td>1984.865753</td>\n",
       "      <td>103.685262</td>\n",
       "      <td>443.639726</td>\n",
       "      <td>46.549315</td>\n",
       "      <td>...</td>\n",
       "      <td>94.244521</td>\n",
       "      <td>46.660274</td>\n",
       "      <td>21.954110</td>\n",
       "      <td>3.409589</td>\n",
       "      <td>15.060959</td>\n",
       "      <td>2.758904</td>\n",
       "      <td>43.489041</td>\n",
       "      <td>6.321918</td>\n",
       "      <td>2007.815753</td>\n",
       "      <td>180921.195890</td>\n",
       "    </tr>\n",
       "    <tr>\n",
       "      <th>std</th>\n",
       "      <td>42.300571</td>\n",
       "      <td>24.284752</td>\n",
       "      <td>9981.264932</td>\n",
       "      <td>1.382997</td>\n",
       "      <td>1.112799</td>\n",
       "      <td>30.202904</td>\n",
       "      <td>20.645407</td>\n",
       "      <td>181.066207</td>\n",
       "      <td>456.098091</td>\n",
       "      <td>161.319273</td>\n",
       "      <td>...</td>\n",
       "      <td>125.338794</td>\n",
       "      <td>66.256028</td>\n",
       "      <td>61.119149</td>\n",
       "      <td>29.317331</td>\n",
       "      <td>55.757415</td>\n",
       "      <td>40.177307</td>\n",
       "      <td>496.123024</td>\n",
       "      <td>2.703626</td>\n",
       "      <td>1.328095</td>\n",
       "      <td>79442.502883</td>\n",
       "    </tr>\n",
       "    <tr>\n",
       "      <th>min</th>\n",
       "      <td>20.000000</td>\n",
       "      <td>21.000000</td>\n",
       "      <td>1300.000000</td>\n",
       "      <td>1.000000</td>\n",
       "      <td>1.000000</td>\n",
       "      <td>1872.000000</td>\n",
       "      <td>1950.000000</td>\n",
       "      <td>0.000000</td>\n",
       "      <td>0.000000</td>\n",
       "      <td>0.000000</td>\n",
       "      <td>...</td>\n",
       "      <td>0.000000</td>\n",
       "      <td>0.000000</td>\n",
       "      <td>0.000000</td>\n",
       "      <td>0.000000</td>\n",
       "      <td>0.000000</td>\n",
       "      <td>0.000000</td>\n",
       "      <td>0.000000</td>\n",
       "      <td>1.000000</td>\n",
       "      <td>2006.000000</td>\n",
       "      <td>34900.000000</td>\n",
       "    </tr>\n",
       "    <tr>\n",
       "      <th>25%</th>\n",
       "      <td>20.000000</td>\n",
       "      <td>59.000000</td>\n",
       "      <td>7553.500000</td>\n",
       "      <td>5.000000</td>\n",
       "      <td>5.000000</td>\n",
       "      <td>1954.000000</td>\n",
       "      <td>1967.000000</td>\n",
       "      <td>0.000000</td>\n",
       "      <td>0.000000</td>\n",
       "      <td>0.000000</td>\n",
       "      <td>...</td>\n",
       "      <td>0.000000</td>\n",
       "      <td>0.000000</td>\n",
       "      <td>0.000000</td>\n",
       "      <td>0.000000</td>\n",
       "      <td>0.000000</td>\n",
       "      <td>0.000000</td>\n",
       "      <td>0.000000</td>\n",
       "      <td>5.000000</td>\n",
       "      <td>2007.000000</td>\n",
       "      <td>129975.000000</td>\n",
       "    </tr>\n",
       "    <tr>\n",
       "      <th>50%</th>\n",
       "      <td>50.000000</td>\n",
       "      <td>69.000000</td>\n",
       "      <td>9478.500000</td>\n",
       "      <td>6.000000</td>\n",
       "      <td>5.000000</td>\n",
       "      <td>1973.000000</td>\n",
       "      <td>1994.000000</td>\n",
       "      <td>0.000000</td>\n",
       "      <td>383.500000</td>\n",
       "      <td>0.000000</td>\n",
       "      <td>...</td>\n",
       "      <td>0.000000</td>\n",
       "      <td>25.000000</td>\n",
       "      <td>0.000000</td>\n",
       "      <td>0.000000</td>\n",
       "      <td>0.000000</td>\n",
       "      <td>0.000000</td>\n",
       "      <td>0.000000</td>\n",
       "      <td>6.000000</td>\n",
       "      <td>2008.000000</td>\n",
       "      <td>163000.000000</td>\n",
       "    </tr>\n",
       "    <tr>\n",
       "      <th>75%</th>\n",
       "      <td>70.000000</td>\n",
       "      <td>80.000000</td>\n",
       "      <td>11601.500000</td>\n",
       "      <td>7.000000</td>\n",
       "      <td>6.000000</td>\n",
       "      <td>2000.000000</td>\n",
       "      <td>2004.000000</td>\n",
       "      <td>166.000000</td>\n",
       "      <td>712.250000</td>\n",
       "      <td>0.000000</td>\n",
       "      <td>...</td>\n",
       "      <td>168.000000</td>\n",
       "      <td>68.000000</td>\n",
       "      <td>0.000000</td>\n",
       "      <td>0.000000</td>\n",
       "      <td>0.000000</td>\n",
       "      <td>0.000000</td>\n",
       "      <td>0.000000</td>\n",
       "      <td>8.000000</td>\n",
       "      <td>2009.000000</td>\n",
       "      <td>214000.000000</td>\n",
       "    </tr>\n",
       "    <tr>\n",
       "      <th>max</th>\n",
       "      <td>190.000000</td>\n",
       "      <td>313.000000</td>\n",
       "      <td>215245.000000</td>\n",
       "      <td>10.000000</td>\n",
       "      <td>9.000000</td>\n",
       "      <td>2010.000000</td>\n",
       "      <td>2010.000000</td>\n",
       "      <td>1600.000000</td>\n",
       "      <td>5644.000000</td>\n",
       "      <td>1474.000000</td>\n",
       "      <td>...</td>\n",
       "      <td>857.000000</td>\n",
       "      <td>547.000000</td>\n",
       "      <td>552.000000</td>\n",
       "      <td>508.000000</td>\n",
       "      <td>480.000000</td>\n",
       "      <td>738.000000</td>\n",
       "      <td>15500.000000</td>\n",
       "      <td>12.000000</td>\n",
       "      <td>2010.000000</td>\n",
       "      <td>755000.000000</td>\n",
       "    </tr>\n",
       "  </tbody>\n",
       "</table>\n",
       "<p>8 rows × 37 columns</p>\n",
       "</div>"
      ],
      "text/plain": [
       "        MSSubClass  LotFrontage        LotArea  OverallQual  OverallCond  \\\n",
       "count  1460.000000  1201.000000    1460.000000  1460.000000  1460.000000   \n",
       "mean     56.897260    70.049958   10516.828082     6.099315     5.575342   \n",
       "std      42.300571    24.284752    9981.264932     1.382997     1.112799   \n",
       "min      20.000000    21.000000    1300.000000     1.000000     1.000000   \n",
       "25%      20.000000    59.000000    7553.500000     5.000000     5.000000   \n",
       "50%      50.000000    69.000000    9478.500000     6.000000     5.000000   \n",
       "75%      70.000000    80.000000   11601.500000     7.000000     6.000000   \n",
       "max     190.000000   313.000000  215245.000000    10.000000     9.000000   \n",
       "\n",
       "         YearBuilt  YearRemodAdd   MasVnrArea   BsmtFinSF1   BsmtFinSF2  ...  \\\n",
       "count  1460.000000   1460.000000  1452.000000  1460.000000  1460.000000  ...   \n",
       "mean   1971.267808   1984.865753   103.685262   443.639726    46.549315  ...   \n",
       "std      30.202904     20.645407   181.066207   456.098091   161.319273  ...   \n",
       "min    1872.000000   1950.000000     0.000000     0.000000     0.000000  ...   \n",
       "25%    1954.000000   1967.000000     0.000000     0.000000     0.000000  ...   \n",
       "50%    1973.000000   1994.000000     0.000000   383.500000     0.000000  ...   \n",
       "75%    2000.000000   2004.000000   166.000000   712.250000     0.000000  ...   \n",
       "max    2010.000000   2010.000000  1600.000000  5644.000000  1474.000000  ...   \n",
       "\n",
       "        WoodDeckSF  OpenPorchSF  EnclosedPorch    3SsnPorch  ScreenPorch  \\\n",
       "count  1460.000000  1460.000000    1460.000000  1460.000000  1460.000000   \n",
       "mean     94.244521    46.660274      21.954110     3.409589    15.060959   \n",
       "std     125.338794    66.256028      61.119149    29.317331    55.757415   \n",
       "min       0.000000     0.000000       0.000000     0.000000     0.000000   \n",
       "25%       0.000000     0.000000       0.000000     0.000000     0.000000   \n",
       "50%       0.000000    25.000000       0.000000     0.000000     0.000000   \n",
       "75%     168.000000    68.000000       0.000000     0.000000     0.000000   \n",
       "max     857.000000   547.000000     552.000000   508.000000   480.000000   \n",
       "\n",
       "          PoolArea       MiscVal       MoSold       YrSold      SalePrice  \n",
       "count  1460.000000   1460.000000  1460.000000  1460.000000    1460.000000  \n",
       "mean      2.758904     43.489041     6.321918  2007.815753  180921.195890  \n",
       "std      40.177307    496.123024     2.703626     1.328095   79442.502883  \n",
       "min       0.000000      0.000000     1.000000  2006.000000   34900.000000  \n",
       "25%       0.000000      0.000000     5.000000  2007.000000  129975.000000  \n",
       "50%       0.000000      0.000000     6.000000  2008.000000  163000.000000  \n",
       "75%       0.000000      0.000000     8.000000  2009.000000  214000.000000  \n",
       "max     738.000000  15500.000000    12.000000  2010.000000  755000.000000  \n",
       "\n",
       "[8 rows x 37 columns]"
      ]
     },
     "execution_count": 4,
     "metadata": {},
     "output_type": "execute_result"
    }
   ],
   "source": [
    "## Exploratory Data Analysis\n",
    "df.describe()\n",
    "\n",
    "# The dataframe has 1460 rows and 80 columns, with SalePrice being the target variable (supervised learning)."
   ]
  },
  {
   "cell_type": "code",
   "execution_count": 5,
   "id": "551a877c",
   "metadata": {
    "execution": {
     "iopub.execute_input": "2025-04-08T22:21:05.332496Z",
     "iopub.status.busy": "2025-04-08T22:21:05.332126Z",
     "iopub.status.idle": "2025-04-08T22:21:05.337335Z",
     "shell.execute_reply": "2025-04-08T22:21:05.336585Z"
    },
    "papermill": {
     "duration": 0.013575,
     "end_time": "2025-04-08T22:21:05.339448",
     "exception": false,
     "start_time": "2025-04-08T22:21:05.325873",
     "status": "completed"
    },
    "tags": []
   },
   "outputs": [],
   "source": [
    "# Create a function to find the most correlated features\n",
    "\n",
    "def find_most_correlated_features(df, target_col, num_features=10):\n",
    "      \"\"\"Finds the most correlated features with the target variable.\"\"\"\n",
    "      corr_with_target = df.corr()[target_col].abs().sort_values(ascending=False)\n",
    "      most_correlated = corr_with_target.drop(target_col).head(num_features)\n",
    "      return most_correlated"
   ]
  },
  {
   "cell_type": "code",
   "execution_count": 6,
   "id": "5551f6bc",
   "metadata": {
    "execution": {
     "iopub.execute_input": "2025-04-08T22:21:05.358479Z",
     "iopub.status.busy": "2025-04-08T22:21:05.358132Z",
     "iopub.status.idle": "2025-04-08T22:21:05.362565Z",
     "shell.execute_reply": "2025-04-08T22:21:05.361567Z"
    },
    "papermill": {
     "duration": 0.015601,
     "end_time": "2025-04-08T22:21:05.364316",
     "exception": false,
     "start_time": "2025-04-08T22:21:05.348715",
     "status": "completed"
    },
    "tags": []
   },
   "outputs": [],
   "source": [
    "def isolate_numerical_features(df):\n",
    "  \"\"\"\n",
    "  Isolates numerical features from a pandas DataFrame.\n",
    "\n",
    "  Args:\n",
    "    df: The input pandas DataFrame.\n",
    "\n",
    "  Returns:\n",
    "    A pandas DataFrame containing only the numerical features.\n",
    "  \"\"\"\n",
    "  numerical_features = df.select_dtypes(include=['number'])\n",
    "  return numerical_features"
   ]
  },
  {
   "cell_type": "code",
   "execution_count": 7,
   "id": "d11f1c13",
   "metadata": {
    "execution": {
     "iopub.execute_input": "2025-04-08T22:21:05.375858Z",
     "iopub.status.busy": "2025-04-08T22:21:05.375482Z",
     "iopub.status.idle": "2025-04-08T22:21:05.382251Z",
     "shell.execute_reply": "2025-04-08T22:21:05.381194Z"
    },
    "papermill": {
     "duration": 0.014503,
     "end_time": "2025-04-08T22:21:05.384038",
     "exception": false,
     "start_time": "2025-04-08T22:21:05.369535",
     "status": "completed"
    },
    "tags": []
   },
   "outputs": [
    {
     "data": {
      "text/plain": [
       "(1460, 37)"
      ]
     },
     "execution_count": 7,
     "metadata": {},
     "output_type": "execute_result"
    }
   ],
   "source": [
    "df_numerical  = isolate_numerical_features(df)\n",
    "df_numerical.shape"
   ]
  },
  {
   "cell_type": "code",
   "execution_count": 8,
   "id": "d856442b",
   "metadata": {
    "execution": {
     "iopub.execute_input": "2025-04-08T22:21:05.395952Z",
     "iopub.status.busy": "2025-04-08T22:21:05.395488Z",
     "iopub.status.idle": "2025-04-08T22:21:05.413183Z",
     "shell.execute_reply": "2025-04-08T22:21:05.412061Z"
    },
    "papermill": {
     "duration": 0.025613,
     "end_time": "2025-04-08T22:21:05.415003",
     "exception": false,
     "start_time": "2025-04-08T22:21:05.389390",
     "status": "completed"
    },
    "tags": []
   },
   "outputs": [
    {
     "data": {
      "text/plain": [
       "OverallQual     0.790982\n",
       "GrLivArea       0.708624\n",
       "GarageCars      0.640409\n",
       "GarageArea      0.623431\n",
       "TotalBsmtSF     0.613581\n",
       "1stFlrSF        0.605852\n",
       "FullBath        0.560664\n",
       "TotRmsAbvGrd    0.533723\n",
       "YearBuilt       0.522897\n",
       "YearRemodAdd    0.507101\n",
       "GarageYrBlt     0.486362\n",
       "MasVnrArea      0.477493\n",
       "Fireplaces      0.466929\n",
       "BsmtFinSF1      0.386420\n",
       "LotFrontage     0.351799\n",
       "WoodDeckSF      0.324413\n",
       "2ndFlrSF        0.319334\n",
       "OpenPorchSF     0.315856\n",
       "HalfBath        0.284108\n",
       "LotArea         0.263843\n",
       "Name: SalePrice, dtype: float64"
      ]
     },
     "execution_count": 8,
     "metadata": {},
     "output_type": "execute_result"
    }
   ],
   "source": [
    "find_most_correlated_features(df_numerical,'SalePrice',num_features=20)"
   ]
  },
  {
   "cell_type": "code",
   "execution_count": 9,
   "id": "d4577324",
   "metadata": {
    "execution": {
     "iopub.execute_input": "2025-04-08T22:21:05.427773Z",
     "iopub.status.busy": "2025-04-08T22:21:05.427345Z",
     "iopub.status.idle": "2025-04-08T22:21:05.431515Z",
     "shell.execute_reply": "2025-04-08T22:21:05.430463Z"
    },
    "papermill": {
     "duration": 0.012428,
     "end_time": "2025-04-08T22:21:05.433387",
     "exception": false,
     "start_time": "2025-04-08T22:21:05.420959",
     "status": "completed"
    },
    "tags": []
   },
   "outputs": [],
   "source": [
    "##### Building model #####"
   ]
  },
  {
   "cell_type": "code",
   "execution_count": 10,
   "id": "dbf2fca4",
   "metadata": {
    "execution": {
     "iopub.execute_input": "2025-04-08T22:21:05.445792Z",
     "iopub.status.busy": "2025-04-08T22:21:05.445413Z",
     "iopub.status.idle": "2025-04-08T22:21:05.620521Z",
     "shell.execute_reply": "2025-04-08T22:21:05.619497Z"
    },
    "papermill": {
     "duration": 0.183407,
     "end_time": "2025-04-08T22:21:05.622388",
     "exception": false,
     "start_time": "2025-04-08T22:21:05.438981",
     "status": "completed"
    },
    "tags": []
   },
   "outputs": [],
   "source": [
    "# Building a decision tree\n",
    "from sklearn.tree import DecisionTreeRegressor\n",
    "\n",
    "house_model = DecisionTreeRegressor(random_state =1)"
   ]
  },
  {
   "cell_type": "code",
   "execution_count": 11,
   "id": "1c5b9b31",
   "metadata": {
    "execution": {
     "iopub.execute_input": "2025-04-08T22:21:05.634597Z",
     "iopub.status.busy": "2025-04-08T22:21:05.634210Z",
     "iopub.status.idle": "2025-04-08T22:21:05.640608Z",
     "shell.execute_reply": "2025-04-08T22:21:05.639628Z"
    },
    "papermill": {
     "duration": 0.014438,
     "end_time": "2025-04-08T22:21:05.642406",
     "exception": false,
     "start_time": "2025-04-08T22:21:05.627968",
     "status": "completed"
    },
    "tags": []
   },
   "outputs": [],
   "source": [
    "X = df[['OverallQual','GrLivArea','GarageCars','GarageArea','TotalBsmtSF','1stFlrSF','FullBath','TotRmsAbvGrd','YearBuilt','YearRemodAdd','GarageYrBlt','MasVnrArea','Fireplaces','BsmtFinSF1','LotFrontage','WoodDeckSF','2ndFlrSF','OpenPorchSF','HalfBath','LotArea']]\n",
    "y = df['SalePrice']"
   ]
  },
  {
   "cell_type": "code",
   "execution_count": 12,
   "id": "bab1ed42",
   "metadata": {
    "execution": {
     "iopub.execute_input": "2025-04-08T22:21:05.654587Z",
     "iopub.status.busy": "2025-04-08T22:21:05.654218Z",
     "iopub.status.idle": "2025-04-08T22:21:05.662027Z",
     "shell.execute_reply": "2025-04-08T22:21:05.660897Z"
    },
    "papermill": {
     "duration": 0.015914,
     "end_time": "2025-04-08T22:21:05.663860",
     "exception": false,
     "start_time": "2025-04-08T22:21:05.647946",
     "status": "completed"
    },
    "tags": []
   },
   "outputs": [],
   "source": [
    "# Combine X and y for easier row-wise dropping\n",
    "data = pd.concat([X, y], axis=1)\n",
    "\n",
    "# Drop rows with any NaN values\n",
    "data_cleaned = data.dropna()"
   ]
  },
  {
   "cell_type": "code",
   "execution_count": 13,
   "id": "4a19697b",
   "metadata": {
    "execution": {
     "iopub.execute_input": "2025-04-08T22:21:05.675967Z",
     "iopub.status.busy": "2025-04-08T22:21:05.675569Z",
     "iopub.status.idle": "2025-04-08T22:21:05.694869Z",
     "shell.execute_reply": "2025-04-08T22:21:05.693524Z"
    },
    "papermill": {
     "duration": 0.027297,
     "end_time": "2025-04-08T22:21:05.696585",
     "exception": false,
     "start_time": "2025-04-08T22:21:05.669288",
     "status": "completed"
    },
    "tags": []
   },
   "outputs": [
    {
     "data": {
      "text/html": [
       "<div>\n",
       "<style scoped>\n",
       "    .dataframe tbody tr th:only-of-type {\n",
       "        vertical-align: middle;\n",
       "    }\n",
       "\n",
       "    .dataframe tbody tr th {\n",
       "        vertical-align: top;\n",
       "    }\n",
       "\n",
       "    .dataframe thead th {\n",
       "        text-align: right;\n",
       "    }\n",
       "</style>\n",
       "<table border=\"1\" class=\"dataframe\">\n",
       "  <thead>\n",
       "    <tr style=\"text-align: right;\">\n",
       "      <th></th>\n",
       "      <th>OverallQual</th>\n",
       "      <th>GrLivArea</th>\n",
       "      <th>GarageCars</th>\n",
       "      <th>GarageArea</th>\n",
       "      <th>TotalBsmtSF</th>\n",
       "      <th>1stFlrSF</th>\n",
       "      <th>FullBath</th>\n",
       "      <th>TotRmsAbvGrd</th>\n",
       "      <th>YearBuilt</th>\n",
       "      <th>YearRemodAdd</th>\n",
       "      <th>...</th>\n",
       "      <th>MasVnrArea</th>\n",
       "      <th>Fireplaces</th>\n",
       "      <th>BsmtFinSF1</th>\n",
       "      <th>LotFrontage</th>\n",
       "      <th>WoodDeckSF</th>\n",
       "      <th>2ndFlrSF</th>\n",
       "      <th>OpenPorchSF</th>\n",
       "      <th>HalfBath</th>\n",
       "      <th>LotArea</th>\n",
       "      <th>SalePrice</th>\n",
       "    </tr>\n",
       "    <tr>\n",
       "      <th>Id</th>\n",
       "      <th></th>\n",
       "      <th></th>\n",
       "      <th></th>\n",
       "      <th></th>\n",
       "      <th></th>\n",
       "      <th></th>\n",
       "      <th></th>\n",
       "      <th></th>\n",
       "      <th></th>\n",
       "      <th></th>\n",
       "      <th></th>\n",
       "      <th></th>\n",
       "      <th></th>\n",
       "      <th></th>\n",
       "      <th></th>\n",
       "      <th></th>\n",
       "      <th></th>\n",
       "      <th></th>\n",
       "      <th></th>\n",
       "      <th></th>\n",
       "      <th></th>\n",
       "    </tr>\n",
       "  </thead>\n",
       "  <tbody>\n",
       "    <tr>\n",
       "      <th>1</th>\n",
       "      <td>7</td>\n",
       "      <td>1710</td>\n",
       "      <td>2</td>\n",
       "      <td>548</td>\n",
       "      <td>856</td>\n",
       "      <td>856</td>\n",
       "      <td>2</td>\n",
       "      <td>8</td>\n",
       "      <td>2003</td>\n",
       "      <td>2003</td>\n",
       "      <td>...</td>\n",
       "      <td>196.0</td>\n",
       "      <td>0</td>\n",
       "      <td>706</td>\n",
       "      <td>65.0</td>\n",
       "      <td>0</td>\n",
       "      <td>854</td>\n",
       "      <td>61</td>\n",
       "      <td>1</td>\n",
       "      <td>8450</td>\n",
       "      <td>208500</td>\n",
       "    </tr>\n",
       "    <tr>\n",
       "      <th>2</th>\n",
       "      <td>6</td>\n",
       "      <td>1262</td>\n",
       "      <td>2</td>\n",
       "      <td>460</td>\n",
       "      <td>1262</td>\n",
       "      <td>1262</td>\n",
       "      <td>2</td>\n",
       "      <td>6</td>\n",
       "      <td>1976</td>\n",
       "      <td>1976</td>\n",
       "      <td>...</td>\n",
       "      <td>0.0</td>\n",
       "      <td>1</td>\n",
       "      <td>978</td>\n",
       "      <td>80.0</td>\n",
       "      <td>298</td>\n",
       "      <td>0</td>\n",
       "      <td>0</td>\n",
       "      <td>0</td>\n",
       "      <td>9600</td>\n",
       "      <td>181500</td>\n",
       "    </tr>\n",
       "    <tr>\n",
       "      <th>3</th>\n",
       "      <td>7</td>\n",
       "      <td>1786</td>\n",
       "      <td>2</td>\n",
       "      <td>608</td>\n",
       "      <td>920</td>\n",
       "      <td>920</td>\n",
       "      <td>2</td>\n",
       "      <td>6</td>\n",
       "      <td>2001</td>\n",
       "      <td>2002</td>\n",
       "      <td>...</td>\n",
       "      <td>162.0</td>\n",
       "      <td>1</td>\n",
       "      <td>486</td>\n",
       "      <td>68.0</td>\n",
       "      <td>0</td>\n",
       "      <td>866</td>\n",
       "      <td>42</td>\n",
       "      <td>1</td>\n",
       "      <td>11250</td>\n",
       "      <td>223500</td>\n",
       "    </tr>\n",
       "    <tr>\n",
       "      <th>4</th>\n",
       "      <td>7</td>\n",
       "      <td>1717</td>\n",
       "      <td>3</td>\n",
       "      <td>642</td>\n",
       "      <td>756</td>\n",
       "      <td>961</td>\n",
       "      <td>1</td>\n",
       "      <td>7</td>\n",
       "      <td>1915</td>\n",
       "      <td>1970</td>\n",
       "      <td>...</td>\n",
       "      <td>0.0</td>\n",
       "      <td>1</td>\n",
       "      <td>216</td>\n",
       "      <td>60.0</td>\n",
       "      <td>0</td>\n",
       "      <td>756</td>\n",
       "      <td>35</td>\n",
       "      <td>0</td>\n",
       "      <td>9550</td>\n",
       "      <td>140000</td>\n",
       "    </tr>\n",
       "    <tr>\n",
       "      <th>5</th>\n",
       "      <td>8</td>\n",
       "      <td>2198</td>\n",
       "      <td>3</td>\n",
       "      <td>836</td>\n",
       "      <td>1145</td>\n",
       "      <td>1145</td>\n",
       "      <td>2</td>\n",
       "      <td>9</td>\n",
       "      <td>2000</td>\n",
       "      <td>2000</td>\n",
       "      <td>...</td>\n",
       "      <td>350.0</td>\n",
       "      <td>1</td>\n",
       "      <td>655</td>\n",
       "      <td>84.0</td>\n",
       "      <td>192</td>\n",
       "      <td>1053</td>\n",
       "      <td>84</td>\n",
       "      <td>1</td>\n",
       "      <td>14260</td>\n",
       "      <td>250000</td>\n",
       "    </tr>\n",
       "  </tbody>\n",
       "</table>\n",
       "<p>5 rows × 21 columns</p>\n",
       "</div>"
      ],
      "text/plain": [
       "    OverallQual  GrLivArea  GarageCars  GarageArea  TotalBsmtSF  1stFlrSF  \\\n",
       "Id                                                                          \n",
       "1             7       1710           2         548          856       856   \n",
       "2             6       1262           2         460         1262      1262   \n",
       "3             7       1786           2         608          920       920   \n",
       "4             7       1717           3         642          756       961   \n",
       "5             8       2198           3         836         1145      1145   \n",
       "\n",
       "    FullBath  TotRmsAbvGrd  YearBuilt  YearRemodAdd  ...  MasVnrArea  \\\n",
       "Id                                                   ...               \n",
       "1          2             8       2003          2003  ...       196.0   \n",
       "2          2             6       1976          1976  ...         0.0   \n",
       "3          2             6       2001          2002  ...       162.0   \n",
       "4          1             7       1915          1970  ...         0.0   \n",
       "5          2             9       2000          2000  ...       350.0   \n",
       "\n",
       "    Fireplaces  BsmtFinSF1  LotFrontage  WoodDeckSF  2ndFlrSF  OpenPorchSF  \\\n",
       "Id                                                                           \n",
       "1            0         706         65.0           0       854           61   \n",
       "2            1         978         80.0         298         0            0   \n",
       "3            1         486         68.0           0       866           42   \n",
       "4            1         216         60.0           0       756           35   \n",
       "5            1         655         84.0         192      1053           84   \n",
       "\n",
       "    HalfBath  LotArea  SalePrice  \n",
       "Id                                \n",
       "1          1     8450     208500  \n",
       "2          0     9600     181500  \n",
       "3          1    11250     223500  \n",
       "4          0     9550     140000  \n",
       "5          1    14260     250000  \n",
       "\n",
       "[5 rows x 21 columns]"
      ]
     },
     "execution_count": 13,
     "metadata": {},
     "output_type": "execute_result"
    }
   ],
   "source": [
    "data_cleaned.head()"
   ]
  },
  {
   "cell_type": "code",
   "execution_count": 14,
   "id": "d719333d",
   "metadata": {
    "execution": {
     "iopub.execute_input": "2025-04-08T22:21:05.709670Z",
     "iopub.status.busy": "2025-04-08T22:21:05.709290Z",
     "iopub.status.idle": "2025-04-08T22:21:05.714509Z",
     "shell.execute_reply": "2025-04-08T22:21:05.713441Z"
    },
    "papermill": {
     "duration": 0.013912,
     "end_time": "2025-04-08T22:21:05.716390",
     "exception": false,
     "start_time": "2025-04-08T22:21:05.702478",
     "status": "completed"
    },
    "tags": []
   },
   "outputs": [],
   "source": [
    "X_cleaned = data_cleaned.iloc[:, :-1]  # Assuming the target is the last column\n",
    "y_cleaned = data_cleaned.iloc[:, -1] # Target column is SalePrice."
   ]
  },
  {
   "cell_type": "code",
   "execution_count": 15,
   "id": "ece1073e",
   "metadata": {
    "execution": {
     "iopub.execute_input": "2025-04-08T22:21:05.729981Z",
     "iopub.status.busy": "2025-04-08T22:21:05.729570Z",
     "iopub.status.idle": "2025-04-08T22:21:05.740880Z",
     "shell.execute_reply": "2025-04-08T22:21:05.739723Z"
    },
    "papermill": {
     "duration": 0.019894,
     "end_time": "2025-04-08T22:21:05.742756",
     "exception": false,
     "start_time": "2025-04-08T22:21:05.722862",
     "status": "completed"
    },
    "tags": []
   },
   "outputs": [
    {
     "name": "stdout",
     "output_type": "stream",
     "text": [
      "the shape of the training set (input) is: (672, 20)\n",
      "the shape of the training set (target) is: (672,)\n",
      "\n",
      "the shape of the cross validation set (input) is: (224, 20)\n",
      "the shape of the cross validation set (target) is: (224,)\n",
      "\n",
      "the shape of the test set (input) is: (225, 20)\n",
      "the shape of the test set (target) is: (225,)\n"
     ]
    }
   ],
   "source": [
    "# Split the cleaned data into train, test, cross-validation sets\n",
    "\n",
    "#X_train, X_test, y_train, y_test = train_test_split(X_cleaned, y_cleaned, test_size=0.2, random_state=42)\n",
    "\n",
    "# Get 60% of the dataset as the training set\n",
    "X_train, X_, y_train, y_ = train_test_split(X_cleaned, y_cleaned, test_size = 0.4, random_state =42)\n",
    "# Random state ensures that the split is the same every time you run the code, for reproducibility.\n",
    "\n",
    "# Split the 40% subset into 20% for cross validation and 20% for test set \n",
    "X_cv, X_test, y_cv, y_test = train_test_split(X_, y_, test_size =0.5, random_state=42)\n",
    "\n",
    "# Delete temporary variables\n",
    "del X_, y_\n",
    "\n",
    "print(f\"the shape of the training set (input) is: {X_train.shape}\")\n",
    "print(f\"the shape of the training set (target) is: {y_train.shape}\\n\")\n",
    "print(f\"the shape of the cross validation set (input) is: {X_cv.shape}\")\n",
    "print(f\"the shape of the cross validation set (target) is: {y_cv.shape}\\n\")\n",
    "print(f\"the shape of the test set (input) is: {X_test.shape}\")\n",
    "print(f\"the shape of the test set (target) is: {y_test.shape}\")"
   ]
  },
  {
   "cell_type": "code",
   "execution_count": 16,
   "id": "808e6342",
   "metadata": {
    "execution": {
     "iopub.execute_input": "2025-04-08T22:21:05.755670Z",
     "iopub.status.busy": "2025-04-08T22:21:05.755338Z",
     "iopub.status.idle": "2025-04-08T22:21:05.779228Z",
     "shell.execute_reply": "2025-04-08T22:21:05.777954Z"
    },
    "papermill": {
     "duration": 0.032649,
     "end_time": "2025-04-08T22:21:05.781268",
     "exception": false,
     "start_time": "2025-04-08T22:21:05.748619",
     "status": "completed"
    },
    "tags": []
   },
   "outputs": [
    {
     "data": {
      "text/html": [
       "<style>#sk-container-id-1 {color: black;background-color: white;}#sk-container-id-1 pre{padding: 0;}#sk-container-id-1 div.sk-toggleable {background-color: white;}#sk-container-id-1 label.sk-toggleable__label {cursor: pointer;display: block;width: 100%;margin-bottom: 0;padding: 0.3em;box-sizing: border-box;text-align: center;}#sk-container-id-1 label.sk-toggleable__label-arrow:before {content: \"▸\";float: left;margin-right: 0.25em;color: #696969;}#sk-container-id-1 label.sk-toggleable__label-arrow:hover:before {color: black;}#sk-container-id-1 div.sk-estimator:hover label.sk-toggleable__label-arrow:before {color: black;}#sk-container-id-1 div.sk-toggleable__content {max-height: 0;max-width: 0;overflow: hidden;text-align: left;background-color: #f0f8ff;}#sk-container-id-1 div.sk-toggleable__content pre {margin: 0.2em;color: black;border-radius: 0.25em;background-color: #f0f8ff;}#sk-container-id-1 input.sk-toggleable__control:checked~div.sk-toggleable__content {max-height: 200px;max-width: 100%;overflow: auto;}#sk-container-id-1 input.sk-toggleable__control:checked~label.sk-toggleable__label-arrow:before {content: \"▾\";}#sk-container-id-1 div.sk-estimator input.sk-toggleable__control:checked~label.sk-toggleable__label {background-color: #d4ebff;}#sk-container-id-1 div.sk-label input.sk-toggleable__control:checked~label.sk-toggleable__label {background-color: #d4ebff;}#sk-container-id-1 input.sk-hidden--visually {border: 0;clip: rect(1px 1px 1px 1px);clip: rect(1px, 1px, 1px, 1px);height: 1px;margin: -1px;overflow: hidden;padding: 0;position: absolute;width: 1px;}#sk-container-id-1 div.sk-estimator {font-family: monospace;background-color: #f0f8ff;border: 1px dotted black;border-radius: 0.25em;box-sizing: border-box;margin-bottom: 0.5em;}#sk-container-id-1 div.sk-estimator:hover {background-color: #d4ebff;}#sk-container-id-1 div.sk-parallel-item::after {content: \"\";width: 100%;border-bottom: 1px solid gray;flex-grow: 1;}#sk-container-id-1 div.sk-label:hover label.sk-toggleable__label {background-color: #d4ebff;}#sk-container-id-1 div.sk-serial::before {content: \"\";position: absolute;border-left: 1px solid gray;box-sizing: border-box;top: 0;bottom: 0;left: 50%;z-index: 0;}#sk-container-id-1 div.sk-serial {display: flex;flex-direction: column;align-items: center;background-color: white;padding-right: 0.2em;padding-left: 0.2em;position: relative;}#sk-container-id-1 div.sk-item {position: relative;z-index: 1;}#sk-container-id-1 div.sk-parallel {display: flex;align-items: stretch;justify-content: center;background-color: white;position: relative;}#sk-container-id-1 div.sk-item::before, #sk-container-id-1 div.sk-parallel-item::before {content: \"\";position: absolute;border-left: 1px solid gray;box-sizing: border-box;top: 0;bottom: 0;left: 50%;z-index: -1;}#sk-container-id-1 div.sk-parallel-item {display: flex;flex-direction: column;z-index: 1;position: relative;background-color: white;}#sk-container-id-1 div.sk-parallel-item:first-child::after {align-self: flex-end;width: 50%;}#sk-container-id-1 div.sk-parallel-item:last-child::after {align-self: flex-start;width: 50%;}#sk-container-id-1 div.sk-parallel-item:only-child::after {width: 0;}#sk-container-id-1 div.sk-dashed-wrapped {border: 1px dashed gray;margin: 0 0.4em 0.5em 0.4em;box-sizing: border-box;padding-bottom: 0.4em;background-color: white;}#sk-container-id-1 div.sk-label label {font-family: monospace;font-weight: bold;display: inline-block;line-height: 1.2em;}#sk-container-id-1 div.sk-label-container {text-align: center;}#sk-container-id-1 div.sk-container {/* jupyter's `normalize.less` sets `[hidden] { display: none; }` but bootstrap.min.css set `[hidden] { display: none !important; }` so we also need the `!important` here to be able to override the default hidden behavior on the sphinx rendered scikit-learn.org. See: https://github.com/scikit-learn/scikit-learn/issues/21755 */display: inline-block !important;position: relative;}#sk-container-id-1 div.sk-text-repr-fallback {display: none;}</style><div id=\"sk-container-id-1\" class=\"sk-top-container\"><div class=\"sk-text-repr-fallback\"><pre>DecisionTreeRegressor(random_state=1)</pre><b>In a Jupyter environment, please rerun this cell to show the HTML representation or trust the notebook. <br />On GitHub, the HTML representation is unable to render, please try loading this page with nbviewer.org.</b></div><div class=\"sk-container\" hidden><div class=\"sk-item\"><div class=\"sk-estimator sk-toggleable\"><input class=\"sk-toggleable__control sk-hidden--visually\" id=\"sk-estimator-id-1\" type=\"checkbox\" checked><label for=\"sk-estimator-id-1\" class=\"sk-toggleable__label sk-toggleable__label-arrow\">DecisionTreeRegressor</label><div class=\"sk-toggleable__content\"><pre>DecisionTreeRegressor(random_state=1)</pre></div></div></div></div></div>"
      ],
      "text/plain": [
       "DecisionTreeRegressor(random_state=1)"
      ]
     },
     "execution_count": 16,
     "metadata": {},
     "output_type": "execute_result"
    }
   ],
   "source": [
    "house_model.fit(X_train, y_train)"
   ]
  },
  {
   "cell_type": "code",
   "execution_count": 17,
   "id": "922fa05c",
   "metadata": {
    "execution": {
     "iopub.execute_input": "2025-04-08T22:21:05.795420Z",
     "iopub.status.busy": "2025-04-08T22:21:05.795044Z",
     "iopub.status.idle": "2025-04-08T22:21:05.800993Z",
     "shell.execute_reply": "2025-04-08T22:21:05.800074Z"
    },
    "papermill": {
     "duration": 0.014853,
     "end_time": "2025-04-08T22:21:05.802755",
     "exception": false,
     "start_time": "2025-04-08T22:21:05.787902",
     "status": "completed"
    },
    "tags": []
   },
   "outputs": [],
   "source": [
    "# Make predictions\n",
    "predictions = house_model.predict(X_test)"
   ]
  },
  {
   "cell_type": "code",
   "execution_count": 18,
   "id": "d6c1edcb",
   "metadata": {
    "execution": {
     "iopub.execute_input": "2025-04-08T22:21:05.816044Z",
     "iopub.status.busy": "2025-04-08T22:21:05.815631Z",
     "iopub.status.idle": "2025-04-08T22:21:05.823526Z",
     "shell.execute_reply": "2025-04-08T22:21:05.822215Z"
    },
    "papermill": {
     "duration": 0.016349,
     "end_time": "2025-04-08T22:21:05.825325",
     "exception": false,
     "start_time": "2025-04-08T22:21:05.808976",
     "status": "completed"
    },
    "tags": []
   },
   "outputs": [
    {
     "name": "stdout",
     "output_type": "stream",
     "text": [
      "30277.933333333334\n",
      "2504992869.3377776\n",
      "50049.903789495715\n"
     ]
    }
   ],
   "source": [
    "# Evaluate the model: MAE, MSE, RMSE\n",
    "MAE = mean_absolute_error(y_test, predictions)\n",
    "MSE = mean_squared_error(y_test, predictions)\n",
    "RMSE = np.sqrt(MSE)\n",
    "\n",
    "print(MAE)\n",
    "# With an MAE of 22,868, this means that on average my model's predictions are off by £22,688. Avg house price in dataset is £180,921. On average 12.5% error. \n",
    "print(MSE)\n",
    "print(RMSE)\n",
    "# RMSE of first iteration of the model is £33,189. RMSE penalises larger errors more heavily than MAE."
   ]
  },
  {
   "cell_type": "code",
   "execution_count": 19,
   "id": "34b393bf",
   "metadata": {
    "execution": {
     "iopub.execute_input": "2025-04-08T22:21:05.839570Z",
     "iopub.status.busy": "2025-04-08T22:21:05.839209Z",
     "iopub.status.idle": "2025-04-08T22:21:05.843767Z",
     "shell.execute_reply": "2025-04-08T22:21:05.842574Z"
    },
    "papermill": {
     "duration": 0.013728,
     "end_time": "2025-04-08T22:21:05.845672",
     "exception": false,
     "start_time": "2025-04-08T22:21:05.831944",
     "status": "completed"
    },
    "tags": []
   },
   "outputs": [],
   "source": [
    "# Improving the model through hyperparameter tuning\n",
    "# Using GridSearchCV\n",
    "\n",
    "from sklearn.model_selection import GridSearchCV"
   ]
  },
  {
   "cell_type": "code",
   "execution_count": 20,
   "id": "7d2cd013",
   "metadata": {
    "execution": {
     "iopub.execute_input": "2025-04-08T22:21:05.859216Z",
     "iopub.status.busy": "2025-04-08T22:21:05.858788Z",
     "iopub.status.idle": "2025-04-08T22:21:05.863286Z",
     "shell.execute_reply": "2025-04-08T22:21:05.862088Z"
    },
    "papermill": {
     "duration": 0.013184,
     "end_time": "2025-04-08T22:21:05.865036",
     "exception": false,
     "start_time": "2025-04-08T22:21:05.851852",
     "status": "completed"
    },
    "tags": []
   },
   "outputs": [],
   "source": [
    "house_model_v2 = DecisionTreeRegressor(random_state=42)"
   ]
  },
  {
   "cell_type": "code",
   "execution_count": 21,
   "id": "3dbe6ce1",
   "metadata": {
    "execution": {
     "iopub.execute_input": "2025-04-08T22:21:05.879018Z",
     "iopub.status.busy": "2025-04-08T22:21:05.878606Z",
     "iopub.status.idle": "2025-04-08T22:21:05.884455Z",
     "shell.execute_reply": "2025-04-08T22:21:05.882999Z"
    },
    "papermill": {
     "duration": 0.015416,
     "end_time": "2025-04-08T22:21:05.886739",
     "exception": false,
     "start_time": "2025-04-08T22:21:05.871323",
     "status": "completed"
    },
    "tags": []
   },
   "outputs": [],
   "source": [
    "param_grid = {\n",
    "    'max_depth': [None, 5, 10, 15, 20],\n",
    "    'min_samples_split': [2, 5, 10, 20],\n",
    "    'min_samples_leaf': [1, 3, 5, 10],\n",
    "    'max_features': ['auto', 'sqrt', 'log2', None]  \n",
    "}"
   ]
  }
 ],
 "metadata": {
  "kaggle": {
   "accelerator": "none",
   "dataSources": [
    {
     "databundleVersionId": 111096,
     "sourceId": 10211,
     "sourceType": "competition"
    }
   ],
   "dockerImageVersionId": 30839,
   "isGpuEnabled": false,
   "isInternetEnabled": false,
   "language": "python",
   "sourceType": "notebook"
  },
  "kernelspec": {
   "display_name": "Python 3",
   "language": "python",
   "name": "python3"
  },
  "language_info": {
   "codemirror_mode": {
    "name": "ipython",
    "version": 3
   },
   "file_extension": ".py",
   "mimetype": "text/x-python",
   "name": "python",
   "nbconvert_exporter": "python",
   "pygments_lexer": "ipython3",
   "version": "3.10.12"
  },
  "papermill": {
   "default_parameters": {},
   "duration": 7.751132,
   "end_time": "2025-04-08T22:21:06.614011",
   "environment_variables": {},
   "exception": null,
   "input_path": "__notebook__.ipynb",
   "output_path": "__notebook__.ipynb",
   "parameters": {},
   "start_time": "2025-04-08T22:20:58.862879",
   "version": "2.6.0"
  }
 },
 "nbformat": 4,
 "nbformat_minor": 5
}
